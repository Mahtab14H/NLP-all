{
 "cells": [
  {
   "cell_type": "markdown",
   "id": "794f7e17",
   "metadata": {
    "deletable": false,
    "editable": false
   },
   "source": [
    "# FORE School of Management\n",
    "\n",
    "## Data Exploration & Vizualization - I : End Term Exam\n",
    "## AY 2023-24 | Term 01 | BDA-04 | Sec H | Faculty : Prof. Amarnath Mitra\n",
    "\n",
    "### Total Marks : 100 | Exam Duaration : 2 Hrs | Number of Questions : 20\n",
    "\n",
    "### Note\n",
    "### 1. Edit the Filename to \"dev1_et_nb_2023-24_xxxx.ipynb\" where \"xxxx\" is Student Roll Number\n",
    "### 2. Answer to a Question must be given in the Cells below the Question.\n",
    "### -----------------------------------------------------------------------------------------------------------------------------------------------------------"
   ]
  },
  {
   "cell_type": "markdown",
   "id": "fb220f96",
   "metadata": {
    "deletable": false
   },
   "source": [
    "### Edit the Following Information with Your Name & Roll Number\n",
    "\n",
    "#### Student Name : Jasleen Kaur Chadha\n",
    "#### Student Roll Number : 045023\n",
    "\n",
    "### -----------------------------------------------------------------------------------------------------------------------------------------------------------"
   ]
  },
  {
   "cell_type": "markdown",
   "id": "96d6a579",
   "metadata": {
    "deletable": false,
    "editable": false
   },
   "source": [
    "### -------------------------- Part A : Python Programming [20 marks] --------------------------"
   ]
  },
  {
   "cell_type": "markdown",
   "id": "a27aa73a",
   "metadata": {
    "deletable": false,
    "editable": false
   },
   "source": [
    "#### A1 [05 marks]\n",
    "#### Write a python code to search & display the key(s) of a given value from a dictionary. Test the code on the following dictionary: \n",
    "#### date_dict = {‘d1’: 2, ‘d2’: 9, ‘m1’: 1, ‘m2’: 1, ‘y1’: 2, ‘y2’: 0, ‘y3’: 2, ‘y4’: 2}\n",
    "##### Example : If the input ‘value’ = 2, then the output ‘key(s)’ = [‘d1’, ‘y1’, ‘y3’, ‘y4’]"
   ]
  },
  {
   "cell_type": "code",
   "execution_count": 3,
   "id": "de423952",
   "metadata": {},
   "outputs": [],
   "source": [
    "# A1\n"
   ]
  },
  {
   "cell_type": "markdown",
   "id": "a3578ecb",
   "metadata": {
    "deletable": false,
    "editable": false
   },
   "source": [
    "#### A2 [05 marks]\n",
    "#### Write a python code to: \n",
    "#### (1) Generate a randon number 'n' between 10 & 99 (say, n=66). \n",
    "#### (2) Generate a list of 'n' (say, n=66) random numbers between 100 & 999. \n",
    "#### (3) Classify the list of 'n' (say, n=66) random numbers as prime & non-prime numbers. \n",
    "#### (4) Display the subset of prime & non-prime numbers."
   ]
  },
  {
   "cell_type": "code",
   "execution_count": 37,
   "id": "18cb99d1",
   "metadata": {},
   "outputs": [
    {
     "name": "stdout",
     "output_type": "stream",
     "text": [
      "The random number is: 34\n",
      "List of random numbers: [118, 504, 668, 840, 151, 590, 913, 258, 399, 924, 795, 670, 549, 140, 869, 887, 725, 856, 179, 725, 673, 473, 404, 298, 724, 781, 878, 120, 815, 602, 280, 322, 931, 249]\n",
      "List of prime numbers upto the random number: []\n"
     ]
    }
   ],
   "source": [
    "import random\n",
    "#Generate random numbers between 10 & 99\n",
    "random_numbers= random.randint(10 ,99)\n",
    "n= random_numbers\n",
    "print (\"The random number is:\", n)\n",
    "\n",
    "#Generate a list of n random numbers\n",
    "random_numbers=[random.randint(100 , 999) for _ in range(n)]\n",
    "print(\"List of random numbers:\", random_numbers)\n",
    "\n",
    "#Function to check if a number is prime\n",
    "def is_prime(num):\n",
    "    while n * n<=num:\n",
    "        if num%num==0:\n",
    "            return True\n",
    "prime_numbers=[i for i in range(2, n+1) if is_prime(i)]\n",
    "print(f\"List of prime numbers upto the random number: {prime_numbers}\")"
   ]
  },
  {
   "cell_type": "markdown",
   "id": "202dd675",
   "metadata": {
    "deletable": false,
    "editable": false
   },
   "source": [
    "#### A3 [05 marks]\n",
    "#### Write a python code to: \n",
    "##### (1) Generate 60 random numbers between 11001 & 11099. Each random number will represent the roll number of a student (in total 60)\n",
    "##### (2) Create 30 random unique pairs (or groups) out of these 60 random roll numbers. {Ex. group 5 = (11023, 11032)}\n",
    "##### (3) Allocate a random score to each group between 40 & 90. {Ex. group 5 : (11023, 11032) | score : 70}\n",
    "##### (4) Display the following data : {Sl. No. | Roll No. | Group No. | Score} arranged in ascending order of roll number"
   ]
  },
  {
   "cell_type": "code",
   "execution_count": 38,
   "id": "70d0cd50",
   "metadata": {},
   "outputs": [
    {
     "name": "stdout",
     "output_type": "stream",
     "text": [
      "List of random numbers: [11045, 11050, 11059, 11040, 11007, 11042, 11037, 11050, 11031, 11031, 11061, 11088, 11042, 11092, 11083, 11091, 11074, 11056, 11052, 11058, 11044, 11060, 11084, 11076, 11056, 11088, 11029, 11023, 11090, 11077, 11068, 11065, 11074, 11002, 11086, 11034, 11042, 11022, 11089, 11058, 11048, 11004, 11078, 11007, 11033, 11063, 11045, 11078, 11004, 11081, 11014, 11025, 11087, 11076, 11088, 11092, 11027, 11055, 11061, 11040]\n"
     ]
    }
   ],
   "source": [
    "import random\n",
    "\n",
    "#Generate a list of n random numbers\n",
    "random_numbers=[random.randint(11001 , 11099) for _ in range(60)]\n",
    "print(\"List of random numbers:\", random_numbers)\n"
   ]
  },
  {
   "cell_type": "markdown",
   "id": "e277c684",
   "metadata": {
    "deletable": false,
    "editable": false
   },
   "source": [
    "#### A4 [05 marks]\n",
    "#### The local zoo sold tickets in 3 categories: {child, student, adult} priced at {INR 5, INR 10, & INR 20} respectively. On a particular weekend a total of 560 tickets were sold and a total of INR 6800 were collected. It was also found that on that weekend there were twice as many adults as there were chidren and there were twice as many students as there were adults. \n",
    "#### Deduce the number of children, students and adults present in the zoo on that weekend."
   ]
  },
  {
   "cell_type": "code",
   "execution_count": 6,
   "id": "dd47933d",
   "metadata": {},
   "outputs": [],
   "source": [
    "# A4\n"
   ]
  },
  {
   "cell_type": "markdown",
   "id": "2de1bb13",
   "metadata": {
    "deletable": false,
    "editable": false
   },
   "source": [
    "### ---------------- Part B : Data Manipulation using Python [80 marks] ----------------"
   ]
  },
  {
   "cell_type": "markdown",
   "id": "2700eecf",
   "metadata": {
    "deletable": false,
    "editable": false
   },
   "source": [
    "### Import Exam Dataset & Create Student Specific Unique Dataset"
   ]
  },
  {
   "cell_type": "code",
   "execution_count": 17,
   "id": "2cc52b1d",
   "metadata": {
    "deletable": false
   },
   "outputs": [],
   "source": [
    "# Required Libraries\n",
    "import os\n",
    "import pandas as pd \n",
    "import numpy as np\n",
    "Myfile= pd.read_csv('customer_data.csv')"
   ]
  },
  {
   "cell_type": "code",
   "execution_count": 21,
   "id": "397db81f",
   "metadata": {
    "deletable": false
   },
   "outputs": [
    {
     "data": {
      "text/html": [
       "<div>\n",
       "<style scoped>\n",
       "    .dataframe tbody tr th:only-of-type {\n",
       "        vertical-align: middle;\n",
       "    }\n",
       "\n",
       "    .dataframe tbody tr th {\n",
       "        vertical-align: top;\n",
       "    }\n",
       "\n",
       "    .dataframe thead th {\n",
       "        text-align: right;\n",
       "    }\n",
       "</style>\n",
       "<table border=\"1\" class=\"dataframe\">\n",
       "  <thead>\n",
       "    <tr style=\"text-align: right;\">\n",
       "      <th></th>\n",
       "      <th>customer_id</th>\n",
       "      <th>surname</th>\n",
       "      <th>country</th>\n",
       "      <th>gender</th>\n",
       "      <th>age</th>\n",
       "      <th>salary</th>\n",
       "      <th>credit_score</th>\n",
       "      <th>member</th>\n",
       "    </tr>\n",
       "  </thead>\n",
       "  <tbody>\n",
       "    <tr>\n",
       "      <th>0</th>\n",
       "      <td>15634602</td>\n",
       "      <td>Hargrave</td>\n",
       "      <td>France</td>\n",
       "      <td>Female</td>\n",
       "      <td>42</td>\n",
       "      <td>101349</td>\n",
       "      <td>619</td>\n",
       "      <td>1</td>\n",
       "    </tr>\n",
       "    <tr>\n",
       "      <th>1</th>\n",
       "      <td>15647311</td>\n",
       "      <td>Hill</td>\n",
       "      <td>Spain</td>\n",
       "      <td>Female</td>\n",
       "      <td>41</td>\n",
       "      <td>112543</td>\n",
       "      <td>608</td>\n",
       "      <td>1</td>\n",
       "    </tr>\n",
       "    <tr>\n",
       "      <th>2</th>\n",
       "      <td>15619304</td>\n",
       "      <td>Onio</td>\n",
       "      <td>France</td>\n",
       "      <td>Female</td>\n",
       "      <td>42</td>\n",
       "      <td>113932</td>\n",
       "      <td>502</td>\n",
       "      <td>0</td>\n",
       "    </tr>\n",
       "    <tr>\n",
       "      <th>3</th>\n",
       "      <td>15701354</td>\n",
       "      <td>Boni</td>\n",
       "      <td>France</td>\n",
       "      <td>Female</td>\n",
       "      <td>39</td>\n",
       "      <td>93827</td>\n",
       "      <td>699</td>\n",
       "      <td>0</td>\n",
       "    </tr>\n",
       "    <tr>\n",
       "      <th>4</th>\n",
       "      <td>15737888</td>\n",
       "      <td>Mitchell</td>\n",
       "      <td>Spain</td>\n",
       "      <td>Female</td>\n",
       "      <td>43</td>\n",
       "      <td>79084</td>\n",
       "      <td>850</td>\n",
       "      <td>1</td>\n",
       "    </tr>\n",
       "  </tbody>\n",
       "</table>\n",
       "</div>"
      ],
      "text/plain": [
       "   customer_id   surname country  gender  age  salary  credit_score  member\n",
       "0     15634602  Hargrave  France  Female   42  101349           619       1\n",
       "1     15647311      Hill   Spain  Female   41  112543           608       1\n",
       "2     15619304      Onio  France  Female   42  113932           502       0\n",
       "3     15701354      Boni  France  Female   39   93827           699       0\n",
       "4     15737888  Mitchell   Spain  Female   43   79084           850       1"
      ]
     },
     "execution_count": 21,
     "metadata": {},
     "output_type": "execute_result"
    }
   ],
   "source": [
    "# Define File Path : Replace xxxxx with appropriate File Path\n",
    "#file_path = \"C:\\Users\\ubuntu\\Desktop\\DEV-I\\customer_data.csv\"\n",
    "import pandas as pd\n",
    "# Import / Read Dataset\n",
    "df = pd.read_csv('customer_data.csv')\n",
    "\n",
    "# Display Dataset\n",
    "df.head()"
   ]
  },
  {
   "cell_type": "markdown",
   "id": "1b3c7026",
   "metadata": {
    "deletable": false,
    "editable": false
   },
   "source": [
    "#### Create Student Specific Unique Dataset : In the Code below...\n",
    "\n",
    "##### 1. Replace 'roll_number_last_4_digit' with Last 4 Digits of your Roll Number \n",
    "##### 2. Replace 'roll_number' with your Roll Number\n",
    "\n",
    "#### Example : If the Roll Number is 012345 then\n",
    "##### 1. roll_number_last_4_digit = 2345 and n = 2345\n",
    "##### 2. roll_number = 012345 and random_state = 12345 (the non-zero part)\n",
    "\n",
    "### -----------------------------------------------------------------------------------------------------------------------------------------------------------"
   ]
  },
  {
   "cell_type": "code",
   "execution_count": null,
   "id": "5908390e",
   "metadata": {
    "deletable": false
   },
   "outputs": [],
   "source": [
    "# Create Student Specific Unique Dataset\n",
    "my_df = df.sample(n = roll_number_last_4_digit, random_state = roll_number, ignore_index = True)\n",
    "\n",
    "# Example: my_df = df.sample (n = 2345, random_state = 12345, ignore_index = True) # Roll Number = 012345\n",
    "\n",
    "# Display Sample Statistics\n",
    "my_df.info()"
   ]
  },
  {
   "cell_type": "markdown",
   "id": "38034087",
   "metadata": {
    "deletable": false,
    "editable": false
   },
   "source": [
    "#### B1 [05 marks]\n",
    "#### Create a copy of 'my_df' named as 'my_df_1'. \n",
    "#### In ‘my_df_1’ dataset, create a new variable ‘membership’ from the variable ‘member’ having the following properties {member = 0 => membership = no | member = 1 => membership = yes}.\n",
    "#### Use 'head()' function to display the 'my_df_1' dataset."
   ]
  },
  {
   "cell_type": "code",
   "execution_count": 40,
   "id": "032dc3e7",
   "metadata": {},
   "outputs": [
    {
     "ename": "KeyError",
     "evalue": "\"['Customer id', 'Surname', 'Credit score', 'Membership Id'] not found in axis\"",
     "output_type": "error",
     "traceback": [
      "\u001b[1;31m---------------------------------------------------------------------------\u001b[0m",
      "\u001b[1;31mKeyError\u001b[0m                                  Traceback (most recent call last)",
      "\u001b[1;32m~\\AppData\\Local\\Temp\\ipykernel_57992\\54548953.py\u001b[0m in \u001b[0;36m<module>\u001b[1;34m\u001b[0m\n\u001b[0;32m      1\u001b[0m \u001b[0mdf\u001b[0m\u001b[1;33m.\u001b[0m\u001b[0mshape\u001b[0m\u001b[1;33m\u001b[0m\u001b[1;33m\u001b[0m\u001b[0m\n\u001b[0;32m      2\u001b[0m \u001b[0mdf\u001b[0m\u001b[1;33m.\u001b[0m\u001b[0mcolumns\u001b[0m\u001b[1;33m\u001b[0m\u001b[1;33m\u001b[0m\u001b[0m\n\u001b[1;32m----> 3\u001b[1;33m \u001b[0mdf\u001b[0m\u001b[1;33m=\u001b[0m\u001b[0mdf\u001b[0m\u001b[1;33m.\u001b[0m\u001b[0mdrop\u001b[0m \u001b[1;33m(\u001b[0m\u001b[1;33m[\u001b[0m\u001b[1;34m'Customer id'\u001b[0m\u001b[1;33m,\u001b[0m \u001b[1;34m'Surname'\u001b[0m\u001b[1;33m,\u001b[0m\u001b[1;34m'Credit score'\u001b[0m\u001b[1;33m,\u001b[0m\u001b[1;34m'Membership Id'\u001b[0m\u001b[1;33m]\u001b[0m\u001b[1;33m,\u001b[0m \u001b[0maxis\u001b[0m\u001b[1;33m=\u001b[0m\u001b[1;36m1\u001b[0m\u001b[1;33m)\u001b[0m\u001b[1;33m\u001b[0m\u001b[1;33m\u001b[0m\u001b[0m\n\u001b[0m\u001b[0;32m      4\u001b[0m \u001b[0mdf\u001b[0m\u001b[1;33m.\u001b[0m\u001b[0mhead\u001b[0m\u001b[1;33m(\u001b[0m\u001b[1;33m)\u001b[0m\u001b[1;33m\u001b[0m\u001b[1;33m\u001b[0m\u001b[0m\n",
      "\u001b[1;32mC:\\ProgramData\\anaconda3\\envs\\deep\\lib\\site-packages\\pandas\\util\\_decorators.py\u001b[0m in \u001b[0;36mwrapper\u001b[1;34m(*args, **kwargs)\u001b[0m\n\u001b[0;32m    329\u001b[0m                     \u001b[0mstacklevel\u001b[0m\u001b[1;33m=\u001b[0m\u001b[0mfind_stack_level\u001b[0m\u001b[1;33m(\u001b[0m\u001b[1;33m)\u001b[0m\u001b[1;33m,\u001b[0m\u001b[1;33m\u001b[0m\u001b[1;33m\u001b[0m\u001b[0m\n\u001b[0;32m    330\u001b[0m                 )\n\u001b[1;32m--> 331\u001b[1;33m             \u001b[1;32mreturn\u001b[0m \u001b[0mfunc\u001b[0m\u001b[1;33m(\u001b[0m\u001b[1;33m*\u001b[0m\u001b[0margs\u001b[0m\u001b[1;33m,\u001b[0m \u001b[1;33m**\u001b[0m\u001b[0mkwargs\u001b[0m\u001b[1;33m)\u001b[0m\u001b[1;33m\u001b[0m\u001b[1;33m\u001b[0m\u001b[0m\n\u001b[0m\u001b[0;32m    332\u001b[0m \u001b[1;33m\u001b[0m\u001b[0m\n\u001b[0;32m    333\u001b[0m         \u001b[1;31m# error: \"Callable[[VarArg(Any), KwArg(Any)], Any]\" has no\u001b[0m\u001b[1;33m\u001b[0m\u001b[1;33m\u001b[0m\u001b[0m\n",
      "\u001b[1;32mC:\\ProgramData\\anaconda3\\envs\\deep\\lib\\site-packages\\pandas\\core\\frame.py\u001b[0m in \u001b[0;36mdrop\u001b[1;34m(self, labels, axis, index, columns, level, inplace, errors)\u001b[0m\n\u001b[0;32m   5394\u001b[0m                 \u001b[0mweight\u001b[0m  \u001b[1;36m1.0\u001b[0m     \u001b[1;36m0.8\u001b[0m\u001b[1;33m\u001b[0m\u001b[1;33m\u001b[0m\u001b[0m\n\u001b[0;32m   5395\u001b[0m         \"\"\"\n\u001b[1;32m-> 5396\u001b[1;33m         return super().drop(\n\u001b[0m\u001b[0;32m   5397\u001b[0m             \u001b[0mlabels\u001b[0m\u001b[1;33m=\u001b[0m\u001b[0mlabels\u001b[0m\u001b[1;33m,\u001b[0m\u001b[1;33m\u001b[0m\u001b[1;33m\u001b[0m\u001b[0m\n\u001b[0;32m   5398\u001b[0m             \u001b[0maxis\u001b[0m\u001b[1;33m=\u001b[0m\u001b[0maxis\u001b[0m\u001b[1;33m,\u001b[0m\u001b[1;33m\u001b[0m\u001b[1;33m\u001b[0m\u001b[0m\n",
      "\u001b[1;32mC:\\ProgramData\\anaconda3\\envs\\deep\\lib\\site-packages\\pandas\\util\\_decorators.py\u001b[0m in \u001b[0;36mwrapper\u001b[1;34m(*args, **kwargs)\u001b[0m\n\u001b[0;32m    329\u001b[0m                     \u001b[0mstacklevel\u001b[0m\u001b[1;33m=\u001b[0m\u001b[0mfind_stack_level\u001b[0m\u001b[1;33m(\u001b[0m\u001b[1;33m)\u001b[0m\u001b[1;33m,\u001b[0m\u001b[1;33m\u001b[0m\u001b[1;33m\u001b[0m\u001b[0m\n\u001b[0;32m    330\u001b[0m                 )\n\u001b[1;32m--> 331\u001b[1;33m             \u001b[1;32mreturn\u001b[0m \u001b[0mfunc\u001b[0m\u001b[1;33m(\u001b[0m\u001b[1;33m*\u001b[0m\u001b[0margs\u001b[0m\u001b[1;33m,\u001b[0m \u001b[1;33m**\u001b[0m\u001b[0mkwargs\u001b[0m\u001b[1;33m)\u001b[0m\u001b[1;33m\u001b[0m\u001b[1;33m\u001b[0m\u001b[0m\n\u001b[0m\u001b[0;32m    332\u001b[0m \u001b[1;33m\u001b[0m\u001b[0m\n\u001b[0;32m    333\u001b[0m         \u001b[1;31m# error: \"Callable[[VarArg(Any), KwArg(Any)], Any]\" has no\u001b[0m\u001b[1;33m\u001b[0m\u001b[1;33m\u001b[0m\u001b[0m\n",
      "\u001b[1;32mC:\\ProgramData\\anaconda3\\envs\\deep\\lib\\site-packages\\pandas\\core\\generic.py\u001b[0m in \u001b[0;36mdrop\u001b[1;34m(self, labels, axis, index, columns, level, inplace, errors)\u001b[0m\n\u001b[0;32m   4503\u001b[0m         \u001b[1;32mfor\u001b[0m \u001b[0maxis\u001b[0m\u001b[1;33m,\u001b[0m \u001b[0mlabels\u001b[0m \u001b[1;32min\u001b[0m \u001b[0maxes\u001b[0m\u001b[1;33m.\u001b[0m\u001b[0mitems\u001b[0m\u001b[1;33m(\u001b[0m\u001b[1;33m)\u001b[0m\u001b[1;33m:\u001b[0m\u001b[1;33m\u001b[0m\u001b[1;33m\u001b[0m\u001b[0m\n\u001b[0;32m   4504\u001b[0m             \u001b[1;32mif\u001b[0m \u001b[0mlabels\u001b[0m \u001b[1;32mis\u001b[0m \u001b[1;32mnot\u001b[0m \u001b[1;32mNone\u001b[0m\u001b[1;33m:\u001b[0m\u001b[1;33m\u001b[0m\u001b[1;33m\u001b[0m\u001b[0m\n\u001b[1;32m-> 4505\u001b[1;33m                 \u001b[0mobj\u001b[0m \u001b[1;33m=\u001b[0m \u001b[0mobj\u001b[0m\u001b[1;33m.\u001b[0m\u001b[0m_drop_axis\u001b[0m\u001b[1;33m(\u001b[0m\u001b[0mlabels\u001b[0m\u001b[1;33m,\u001b[0m \u001b[0maxis\u001b[0m\u001b[1;33m,\u001b[0m \u001b[0mlevel\u001b[0m\u001b[1;33m=\u001b[0m\u001b[0mlevel\u001b[0m\u001b[1;33m,\u001b[0m \u001b[0merrors\u001b[0m\u001b[1;33m=\u001b[0m\u001b[0merrors\u001b[0m\u001b[1;33m)\u001b[0m\u001b[1;33m\u001b[0m\u001b[1;33m\u001b[0m\u001b[0m\n\u001b[0m\u001b[0;32m   4506\u001b[0m \u001b[1;33m\u001b[0m\u001b[0m\n\u001b[0;32m   4507\u001b[0m         \u001b[1;32mif\u001b[0m \u001b[0minplace\u001b[0m\u001b[1;33m:\u001b[0m\u001b[1;33m\u001b[0m\u001b[1;33m\u001b[0m\u001b[0m\n",
      "\u001b[1;32mC:\\ProgramData\\anaconda3\\envs\\deep\\lib\\site-packages\\pandas\\core\\generic.py\u001b[0m in \u001b[0;36m_drop_axis\u001b[1;34m(self, labels, axis, level, errors, only_slice)\u001b[0m\n\u001b[0;32m   4544\u001b[0m                 \u001b[0mnew_axis\u001b[0m \u001b[1;33m=\u001b[0m \u001b[0maxis\u001b[0m\u001b[1;33m.\u001b[0m\u001b[0mdrop\u001b[0m\u001b[1;33m(\u001b[0m\u001b[0mlabels\u001b[0m\u001b[1;33m,\u001b[0m \u001b[0mlevel\u001b[0m\u001b[1;33m=\u001b[0m\u001b[0mlevel\u001b[0m\u001b[1;33m,\u001b[0m \u001b[0merrors\u001b[0m\u001b[1;33m=\u001b[0m\u001b[0merrors\u001b[0m\u001b[1;33m)\u001b[0m\u001b[1;33m\u001b[0m\u001b[1;33m\u001b[0m\u001b[0m\n\u001b[0;32m   4545\u001b[0m             \u001b[1;32melse\u001b[0m\u001b[1;33m:\u001b[0m\u001b[1;33m\u001b[0m\u001b[1;33m\u001b[0m\u001b[0m\n\u001b[1;32m-> 4546\u001b[1;33m                 \u001b[0mnew_axis\u001b[0m \u001b[1;33m=\u001b[0m \u001b[0maxis\u001b[0m\u001b[1;33m.\u001b[0m\u001b[0mdrop\u001b[0m\u001b[1;33m(\u001b[0m\u001b[0mlabels\u001b[0m\u001b[1;33m,\u001b[0m \u001b[0merrors\u001b[0m\u001b[1;33m=\u001b[0m\u001b[0merrors\u001b[0m\u001b[1;33m)\u001b[0m\u001b[1;33m\u001b[0m\u001b[1;33m\u001b[0m\u001b[0m\n\u001b[0m\u001b[0;32m   4547\u001b[0m             \u001b[0mindexer\u001b[0m \u001b[1;33m=\u001b[0m \u001b[0maxis\u001b[0m\u001b[1;33m.\u001b[0m\u001b[0mget_indexer\u001b[0m\u001b[1;33m(\u001b[0m\u001b[0mnew_axis\u001b[0m\u001b[1;33m)\u001b[0m\u001b[1;33m\u001b[0m\u001b[1;33m\u001b[0m\u001b[0m\n\u001b[0;32m   4548\u001b[0m \u001b[1;33m\u001b[0m\u001b[0m\n",
      "\u001b[1;32mC:\\ProgramData\\anaconda3\\envs\\deep\\lib\\site-packages\\pandas\\core\\indexes\\base.py\u001b[0m in \u001b[0;36mdrop\u001b[1;34m(self, labels, errors)\u001b[0m\n\u001b[0;32m   6975\u001b[0m         \u001b[1;32mif\u001b[0m \u001b[0mmask\u001b[0m\u001b[1;33m.\u001b[0m\u001b[0many\u001b[0m\u001b[1;33m(\u001b[0m\u001b[1;33m)\u001b[0m\u001b[1;33m:\u001b[0m\u001b[1;33m\u001b[0m\u001b[1;33m\u001b[0m\u001b[0m\n\u001b[0;32m   6976\u001b[0m             \u001b[1;32mif\u001b[0m \u001b[0merrors\u001b[0m \u001b[1;33m!=\u001b[0m \u001b[1;34m\"ignore\"\u001b[0m\u001b[1;33m:\u001b[0m\u001b[1;33m\u001b[0m\u001b[1;33m\u001b[0m\u001b[0m\n\u001b[1;32m-> 6977\u001b[1;33m                 \u001b[1;32mraise\u001b[0m \u001b[0mKeyError\u001b[0m\u001b[1;33m(\u001b[0m\u001b[1;34mf\"{list(labels[mask])} not found in axis\"\u001b[0m\u001b[1;33m)\u001b[0m\u001b[1;33m\u001b[0m\u001b[1;33m\u001b[0m\u001b[0m\n\u001b[0m\u001b[0;32m   6978\u001b[0m             \u001b[0mindexer\u001b[0m \u001b[1;33m=\u001b[0m \u001b[0mindexer\u001b[0m\u001b[1;33m[\u001b[0m\u001b[1;33m~\u001b[0m\u001b[0mmask\u001b[0m\u001b[1;33m]\u001b[0m\u001b[1;33m\u001b[0m\u001b[1;33m\u001b[0m\u001b[0m\n\u001b[0;32m   6979\u001b[0m         \u001b[1;32mreturn\u001b[0m \u001b[0mself\u001b[0m\u001b[1;33m.\u001b[0m\u001b[0mdelete\u001b[0m\u001b[1;33m(\u001b[0m\u001b[0mindexer\u001b[0m\u001b[1;33m)\u001b[0m\u001b[1;33m\u001b[0m\u001b[1;33m\u001b[0m\u001b[0m\n",
      "\u001b[1;31mKeyError\u001b[0m: \"['Customer id', 'Surname', 'Credit score', 'Membership Id'] not found in axis\""
     ]
    }
   ],
   "source": [
    "df.shape\n",
    "df.columns\n",
    "df=df.drop (['Customer id', 'Surname','Credit score','Membership Id'], axis=1)\n",
    "df.head()"
   ]
  },
  {
   "cell_type": "markdown",
   "id": "29ea38dc",
   "metadata": {
    "deletable": false,
    "editable": false
   },
   "source": [
    "#### B2 [05 marks]\n",
    "#### Create a new dataset ‘my_df_2’ from ‘my_df_1’ where the ‘member’ variable is replaced with ‘membership’ variable. (That is, Drop the 'member' variable & Retain the 'membership' variable in 'my_df_2').\n",
    "#### Use 'head()' function to display the 'my_df_2' dataset."
   ]
  },
  {
   "cell_type": "code",
   "execution_count": 10,
   "id": "bf3e1863",
   "metadata": {},
   "outputs": [],
   "source": [
    "# B2\n"
   ]
  },
  {
   "cell_type": "markdown",
   "id": "99b72a77",
   "metadata": {
    "deletable": false,
    "editable": false
   },
   "source": [
    "### ----- Use 'my_df_2' Dataset for Answering Questions : B3 to B15 -----"
   ]
  },
  {
   "cell_type": "markdown",
   "id": "247bf654",
   "metadata": {
    "deletable": false,
    "editable": false
   },
   "source": [
    "#### B3 [05 marks]\n",
    "#### Display the customer surname (and the value) that has the highest repeat transactions or repeat purchase. "
   ]
  },
  {
   "cell_type": "code",
   "execution_count": 11,
   "id": "57b4bfc8",
   "metadata": {},
   "outputs": [],
   "source": [
    "# B3\n"
   ]
  },
  {
   "cell_type": "markdown",
   "id": "6a681030",
   "metadata": {
    "deletable": false,
    "editable": false
   },
   "source": [
    "#### B4 [05 marks]\n",
    "#### Display the country (and the value) that has (1) the highest number of membership, (2) the lowest number of membership {that is, membership = yes}."
   ]
  },
  {
   "cell_type": "code",
   "execution_count": 12,
   "id": "3199bdd8",
   "metadata": {},
   "outputs": [],
   "source": [
    "# B4\n"
   ]
  },
  {
   "cell_type": "markdown",
   "id": "9d10aa5b",
   "metadata": {
    "deletable": false,
    "editable": false
   },
   "source": [
    "#### B5 [05 marks]\n",
    "#### Display the gender (and the value) that is (1) the youngest, (2) the oldest (use median statistic)."
   ]
  },
  {
   "cell_type": "code",
   "execution_count": 13,
   "id": "46c28f06",
   "metadata": {},
   "outputs": [],
   "source": [
    "# B5\n"
   ]
  },
  {
   "cell_type": "markdown",
   "id": "c7bef7f4",
   "metadata": {
    "deletable": false,
    "editable": false
   },
   "source": [
    "#### B6 [05 marks]\n",
    "#### Display the country (and the value) that has (1) the richest customer, (2) the poorest customers."
   ]
  },
  {
   "cell_type": "code",
   "execution_count": 14,
   "id": "4e2686c1",
   "metadata": {},
   "outputs": [],
   "source": [
    "# B6\n"
   ]
  },
  {
   "cell_type": "markdown",
   "id": "983cabb8",
   "metadata": {
    "deletable": false,
    "editable": false
   },
   "source": [
    "#### B7 [05 marks]\n",
    "#### Display the gender (and the value) that has (1) the best credit score, (2) the worst credit score."
   ]
  },
  {
   "cell_type": "code",
   "execution_count": 15,
   "id": "cda50be0",
   "metadata": {},
   "outputs": [],
   "source": [
    "# B7\n"
   ]
  },
  {
   "cell_type": "markdown",
   "id": "6cfc3980",
   "metadata": {
    "deletable": false,
    "editable": false
   },
   "source": [
    "#### B8 [05 marks] \n",
    "#### Display the country (and the value) with (1) highest variation in salary (2) lowest variation in salary."
   ]
  },
  {
   "cell_type": "code",
   "execution_count": 16,
   "id": "5471c190",
   "metadata": {},
   "outputs": [],
   "source": [
    "# B8\n"
   ]
  },
  {
   "cell_type": "markdown",
   "id": "4552f144",
   "metadata": {
    "deletable": false,
    "editable": false
   },
   "source": [
    "#### B9 [05 marks]\n",
    "#### Give the gender statistics with respect to country. \n",
    "##### 1. Country with highest number of male customer 2. Country with lowest number of male customer\n",
    "##### 3. Country with highest number of female customer 4. Country with lowest number of female customer "
   ]
  },
  {
   "cell_type": "code",
   "execution_count": 17,
   "id": "7d8f4b2c",
   "metadata": {},
   "outputs": [],
   "source": [
    "# B9\n"
   ]
  },
  {
   "cell_type": "markdown",
   "id": "3bc42843",
   "metadata": {
    "deletable": false,
    "editable": false
   },
   "source": [
    "#### B10 [05 marks]\n",
    "#### Give the membership counts (both yes & no) with respect to both country & gender."
   ]
  },
  {
   "cell_type": "code",
   "execution_count": 18,
   "id": "6a6fd267",
   "metadata": {},
   "outputs": [],
   "source": [
    "# B10\n"
   ]
  },
  {
   "cell_type": "markdown",
   "id": "a2ffe666",
   "metadata": {
    "deletable": false,
    "editable": false
   },
   "source": [
    "####  B11 [05 marks] \n",
    "#### Display the combination of country & gender (and the value) that has (1) the best credit score, (2) the worst credit score."
   ]
  },
  {
   "cell_type": "code",
   "execution_count": 19,
   "id": "95731d01",
   "metadata": {},
   "outputs": [],
   "source": [
    "# B11\n"
   ]
  },
  {
   "cell_type": "markdown",
   "id": "171033c3",
   "metadata": {
    "deletable": false,
    "editable": false
   },
   "source": [
    "#### B12 [05 marks]\n",
    "#### Display the top 3 & bottom 3 credit scores in the (1) members catergory, (2) non-members category"
   ]
  },
  {
   "cell_type": "code",
   "execution_count": 20,
   "id": "bd69afb3",
   "metadata": {},
   "outputs": [],
   "source": [
    "# B12\n"
   ]
  },
  {
   "cell_type": "markdown",
   "id": "cbf8cb2d",
   "metadata": {
    "deletable": false,
    "editable": false
   },
   "source": [
    "#### B13 [05 marks]\n",
    "#### Display the top & bottom country (and the value) in terms of median salary in the (1) members category, (2) non-members category"
   ]
  },
  {
   "cell_type": "code",
   "execution_count": 21,
   "id": "6e6730f5",
   "metadata": {},
   "outputs": [],
   "source": [
    "# B13\n"
   ]
  },
  {
   "cell_type": "markdown",
   "id": "edc218cb",
   "metadata": {
    "deletable": false,
    "editable": false
   },
   "source": [
    "#### B14 [05 marks]\n",
    "#### Display the top 2 & bottom 2 age groups in the (1) members category, (2) non-members category"
   ]
  },
  {
   "cell_type": "code",
   "execution_count": 22,
   "id": "f1bcaaa9",
   "metadata": {},
   "outputs": [],
   "source": [
    "# B14\n"
   ]
  },
  {
   "cell_type": "markdown",
   "id": "49c69722",
   "metadata": {
    "deletable": false,
    "editable": false
   },
   "source": [
    "#### B15 [05 marks]\n",
    "#### 1. Bifurcate ‘my_df_2’ into 2 subsets: ‘my_df_yes’ & ‘my_df_no’ based on membership. \n",
    "#### 2. Create a merged dataset ‘my_df_merged’ by inner merging of ‘my_df_yes’ having only following variables {gender, age, salary} with ‘my_df_no’ having only following variables {gender, credit_score} on ‘gender’. \n",
    "#### 3. Use 'head()' function to display the merged dataset 'my_df_merged' having the following columns (only): {gender, age, salary, credit_score}"
   ]
  },
  {
   "cell_type": "code",
   "execution_count": 23,
   "id": "290a45b5",
   "metadata": {},
   "outputs": [],
   "source": [
    "# B15\n"
   ]
  },
  {
   "cell_type": "markdown",
   "id": "5ed64e19",
   "metadata": {
    "deletable": false,
    "editable": false
   },
   "source": [
    "#### B16 [05 marks]\n",
    "#### Use 'my_df_merged' dataset to display gender-wise desciptive statistics {count, min, max, mean, std dev} of variables: {age, salary, credit_score}"
   ]
  },
  {
   "cell_type": "code",
   "execution_count": 24,
   "id": "8854805f",
   "metadata": {},
   "outputs": [],
   "source": [
    "# B16"
   ]
  },
  {
   "cell_type": "markdown",
   "id": "8f0e226f",
   "metadata": {
    "deletable": false,
    "editable": false
   },
   "source": [
    "### -----------------------------------------------------------------------------------------------------------------------------------------------------------\n",
    "\n",
    "### ---x---x---x---x---x--- End of Question Paper ---x---x---x---x---x---"
   ]
  }
 ],
 "metadata": {
  "celltoolbar": "Edit Metadata",
  "kernelspec": {
   "display_name": "Python 3 (ipykernel)",
   "language": "python",
   "name": "python3"
  },
  "language_info": {
   "codemirror_mode": {
    "name": "ipython",
    "version": 3
   },
   "file_extension": ".py",
   "mimetype": "text/x-python",
   "name": "python",
   "nbconvert_exporter": "python",
   "pygments_lexer": "ipython3",
   "version": "3.10.9"
  }
 },
 "nbformat": 4,
 "nbformat_minor": 5
}
