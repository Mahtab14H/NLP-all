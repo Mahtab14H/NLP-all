{
  "nbformat": 4,
  "nbformat_minor": 0,
  "metadata": {
    "colab": {
      "provenance": [],
      "include_colab_link": true
    },
    "kernelspec": {
      "name": "python3",
      "display_name": "Python 3"
    },
    "language_info": {
      "name": "python"
    }
  },
  "cells": [
    {
      "cell_type": "markdown",
      "metadata": {
        "id": "view-in-github",
        "colab_type": "text"
      },
      "source": [
        "<a href=\"https://colab.research.google.com/github/Mahtab14H/NLP-all/blob/main/kamra_simpleNN_churn_modeling_data.ipynb\" target=\"_parent\"><img src=\"https://colab.research.google.com/assets/colab-badge.svg\" alt=\"Open In Colab\"/></a>"
      ]
    },
    {
      "cell_type": "code",
      "source": [
        "# Last amended: 12th Nov, 2022\n",
        "# **********************************************************\n",
        "# BETTER SEE THE OTHER FILE: simpleNN churn_prediction.ipynb\n",
        "#***********************************************************\n",
        "# Bank churn modeling dataset\n",
        "# Experiments with NN\n",
        "# https://www.kaggle.com/code/kmalit/bank-customer-churn-prediction/data"
      ],
      "metadata": {
        "id": "VDuKXUJ_L8S2"
      },
      "execution_count": 1,
      "outputs": []
    },
    {
      "cell_type": "code",
      "execution_count": 2,
      "metadata": {
        "id": "t4NDs_JPESg_"
      },
      "outputs": [],
      "source": [
        "# 1.0\n",
        "import pandas as pd\n",
        "from sklearn.preprocessing import StandardScaler, MinMaxScaler\n",
        "from sklearn.preprocessing import LabelEncoder, OneHotEncoder\n",
        "from sklearn.model_selection import train_test_split\n",
        "\n",
        "# 1.1\n",
        "import tensorflow as tf\n",
        "\n",
        "# 1.2 Helper libraries\n",
        "import numpy as np\n",
        "import matplotlib.pyplot as plt\n"
      ]
    },
    {
      "cell_type": "code",
      "source": [
        "from IPython.core.interactiveshell import InteractiveShell\n",
        "InteractiveShell.ast_node_interactivity = \"all\"\n"
      ],
      "metadata": {
        "id": "s1Efxo5Qp62F"
      },
      "execution_count": 3,
      "outputs": []
    },
    {
      "cell_type": "code",
      "source": [
        "# 2.0 Mount google drive\n",
        "from google.colab import drive\n",
        "drive.mount('/gdrive')"
      ],
      "metadata": {
        "id": "11UKqlGTu9ka",
        "outputId": "1e3230dd-10dd-45d3-c3f2-779ecf4651e8",
        "colab": {
          "base_uri": "https://localhost:8080/"
        }
      },
      "execution_count": 4,
      "outputs": [
        {
          "output_type": "stream",
          "name": "stdout",
          "text": [
            "Mounted at /gdrive\n"
          ]
        }
      ]
    },
    {
      "cell_type": "code",
      "source": [
        "# 2.1 Read Bank Customers churn data\n",
        "\n",
        "path = \"//gdrive/MyDrive/deeplearning/\"\n"
      ],
      "metadata": {
        "id": "e_KwcYMREcUy"
      },
      "execution_count": 5,
      "outputs": []
    },
    {
      "cell_type": "code",
      "source": [
        "# 2.2\n",
        "data = pd.read_csv(path + \"churn_modelling.csv\")"
      ],
      "metadata": {
        "id": "lnhu8ZR5wznf"
      },
      "execution_count": 6,
      "outputs": []
    },
    {
      "cell_type": "code",
      "source": [
        "# 2.2.1\n",
        "data.head()"
      ],
      "metadata": {
        "id": "kV5KxQnLvimq",
        "outputId": "343bba67-ad81-4cf8-e44f-3686b4893dc1",
        "colab": {
          "base_uri": "https://localhost:8080/",
          "height": 270
        }
      },
      "execution_count": 7,
      "outputs": [
        {
          "output_type": "execute_result",
          "data": {
            "text/plain": [
              "   RowNumber  CustomerId   Surname  CreditScore Geography  Gender  Age  \\\n",
              "0          1    15634602  Hargrave          619    France  Female   42   \n",
              "1          2    15647311      Hill          608     Spain  Female   41   \n",
              "2          3    15619304      Onio          502    France  Female   42   \n",
              "3          4    15701354      Boni          699    France  Female   39   \n",
              "4          5    15737888  Mitchell          850     Spain  Female   43   \n",
              "\n",
              "   Tenure    Balance  NumOfProducts  HasCrCard  IsActiveMember  \\\n",
              "0       2       0.00              1          1               1   \n",
              "1       1   83807.86              1          0               1   \n",
              "2       8  159660.80              3          1               0   \n",
              "3       1       0.00              2          0               0   \n",
              "4       2  125510.82              1          1               1   \n",
              "\n",
              "   EstimatedSalary  Exited  \n",
              "0        101348.88       1  \n",
              "1        112542.58       0  \n",
              "2        113931.57       1  \n",
              "3         93826.63       0  \n",
              "4         79084.10       0  "
            ],
            "text/html": [
              "\n",
              "\n",
              "  <div id=\"df-bc325f92-f3fe-41ae-b635-f319cc30658f\">\n",
              "    <div class=\"colab-df-container\">\n",
              "      <div>\n",
              "<style scoped>\n",
              "    .dataframe tbody tr th:only-of-type {\n",
              "        vertical-align: middle;\n",
              "    }\n",
              "\n",
              "    .dataframe tbody tr th {\n",
              "        vertical-align: top;\n",
              "    }\n",
              "\n",
              "    .dataframe thead th {\n",
              "        text-align: right;\n",
              "    }\n",
              "</style>\n",
              "<table border=\"1\" class=\"dataframe\">\n",
              "  <thead>\n",
              "    <tr style=\"text-align: right;\">\n",
              "      <th></th>\n",
              "      <th>RowNumber</th>\n",
              "      <th>CustomerId</th>\n",
              "      <th>Surname</th>\n",
              "      <th>CreditScore</th>\n",
              "      <th>Geography</th>\n",
              "      <th>Gender</th>\n",
              "      <th>Age</th>\n",
              "      <th>Tenure</th>\n",
              "      <th>Balance</th>\n",
              "      <th>NumOfProducts</th>\n",
              "      <th>HasCrCard</th>\n",
              "      <th>IsActiveMember</th>\n",
              "      <th>EstimatedSalary</th>\n",
              "      <th>Exited</th>\n",
              "    </tr>\n",
              "  </thead>\n",
              "  <tbody>\n",
              "    <tr>\n",
              "      <th>0</th>\n",
              "      <td>1</td>\n",
              "      <td>15634602</td>\n",
              "      <td>Hargrave</td>\n",
              "      <td>619</td>\n",
              "      <td>France</td>\n",
              "      <td>Female</td>\n",
              "      <td>42</td>\n",
              "      <td>2</td>\n",
              "      <td>0.00</td>\n",
              "      <td>1</td>\n",
              "      <td>1</td>\n",
              "      <td>1</td>\n",
              "      <td>101348.88</td>\n",
              "      <td>1</td>\n",
              "    </tr>\n",
              "    <tr>\n",
              "      <th>1</th>\n",
              "      <td>2</td>\n",
              "      <td>15647311</td>\n",
              "      <td>Hill</td>\n",
              "      <td>608</td>\n",
              "      <td>Spain</td>\n",
              "      <td>Female</td>\n",
              "      <td>41</td>\n",
              "      <td>1</td>\n",
              "      <td>83807.86</td>\n",
              "      <td>1</td>\n",
              "      <td>0</td>\n",
              "      <td>1</td>\n",
              "      <td>112542.58</td>\n",
              "      <td>0</td>\n",
              "    </tr>\n",
              "    <tr>\n",
              "      <th>2</th>\n",
              "      <td>3</td>\n",
              "      <td>15619304</td>\n",
              "      <td>Onio</td>\n",
              "      <td>502</td>\n",
              "      <td>France</td>\n",
              "      <td>Female</td>\n",
              "      <td>42</td>\n",
              "      <td>8</td>\n",
              "      <td>159660.80</td>\n",
              "      <td>3</td>\n",
              "      <td>1</td>\n",
              "      <td>0</td>\n",
              "      <td>113931.57</td>\n",
              "      <td>1</td>\n",
              "    </tr>\n",
              "    <tr>\n",
              "      <th>3</th>\n",
              "      <td>4</td>\n",
              "      <td>15701354</td>\n",
              "      <td>Boni</td>\n",
              "      <td>699</td>\n",
              "      <td>France</td>\n",
              "      <td>Female</td>\n",
              "      <td>39</td>\n",
              "      <td>1</td>\n",
              "      <td>0.00</td>\n",
              "      <td>2</td>\n",
              "      <td>0</td>\n",
              "      <td>0</td>\n",
              "      <td>93826.63</td>\n",
              "      <td>0</td>\n",
              "    </tr>\n",
              "    <tr>\n",
              "      <th>4</th>\n",
              "      <td>5</td>\n",
              "      <td>15737888</td>\n",
              "      <td>Mitchell</td>\n",
              "      <td>850</td>\n",
              "      <td>Spain</td>\n",
              "      <td>Female</td>\n",
              "      <td>43</td>\n",
              "      <td>2</td>\n",
              "      <td>125510.82</td>\n",
              "      <td>1</td>\n",
              "      <td>1</td>\n",
              "      <td>1</td>\n",
              "      <td>79084.10</td>\n",
              "      <td>0</td>\n",
              "    </tr>\n",
              "  </tbody>\n",
              "</table>\n",
              "</div>\n",
              "      <button class=\"colab-df-convert\" onclick=\"convertToInteractive('df-bc325f92-f3fe-41ae-b635-f319cc30658f')\"\n",
              "              title=\"Convert this dataframe to an interactive table.\"\n",
              "              style=\"display:none;\">\n",
              "\n",
              "  <svg xmlns=\"http://www.w3.org/2000/svg\" height=\"24px\"viewBox=\"0 0 24 24\"\n",
              "       width=\"24px\">\n",
              "    <path d=\"M0 0h24v24H0V0z\" fill=\"none\"/>\n",
              "    <path d=\"M18.56 5.44l.94 2.06.94-2.06 2.06-.94-2.06-.94-.94-2.06-.94 2.06-2.06.94zm-11 1L8.5 8.5l.94-2.06 2.06-.94-2.06-.94L8.5 2.5l-.94 2.06-2.06.94zm10 10l.94 2.06.94-2.06 2.06-.94-2.06-.94-.94-2.06-.94 2.06-2.06.94z\"/><path d=\"M17.41 7.96l-1.37-1.37c-.4-.4-.92-.59-1.43-.59-.52 0-1.04.2-1.43.59L10.3 9.45l-7.72 7.72c-.78.78-.78 2.05 0 2.83L4 21.41c.39.39.9.59 1.41.59.51 0 1.02-.2 1.41-.59l7.78-7.78 2.81-2.81c.8-.78.8-2.07 0-2.86zM5.41 20L4 18.59l7.72-7.72 1.47 1.35L5.41 20z\"/>\n",
              "  </svg>\n",
              "      </button>\n",
              "\n",
              "\n",
              "\n",
              "    <div id=\"df-4e5a0c70-ccf2-407a-82e1-34a616bd9311\">\n",
              "      <button class=\"colab-df-quickchart\" onclick=\"quickchart('df-4e5a0c70-ccf2-407a-82e1-34a616bd9311')\"\n",
              "              title=\"Suggest charts.\"\n",
              "              style=\"display:none;\">\n",
              "\n",
              "<svg xmlns=\"http://www.w3.org/2000/svg\" height=\"24px\"viewBox=\"0 0 24 24\"\n",
              "     width=\"24px\">\n",
              "    <g>\n",
              "        <path d=\"M19 3H5c-1.1 0-2 .9-2 2v14c0 1.1.9 2 2 2h14c1.1 0 2-.9 2-2V5c0-1.1-.9-2-2-2zM9 17H7v-7h2v7zm4 0h-2V7h2v10zm4 0h-2v-4h2v4z\"/>\n",
              "    </g>\n",
              "</svg>\n",
              "      </button>\n",
              "    </div>\n",
              "\n",
              "<style>\n",
              "  .colab-df-quickchart {\n",
              "    background-color: #E8F0FE;\n",
              "    border: none;\n",
              "    border-radius: 50%;\n",
              "    cursor: pointer;\n",
              "    display: none;\n",
              "    fill: #1967D2;\n",
              "    height: 32px;\n",
              "    padding: 0 0 0 0;\n",
              "    width: 32px;\n",
              "  }\n",
              "\n",
              "  .colab-df-quickchart:hover {\n",
              "    background-color: #E2EBFA;\n",
              "    box-shadow: 0px 1px 2px rgba(60, 64, 67, 0.3), 0px 1px 3px 1px rgba(60, 64, 67, 0.15);\n",
              "    fill: #174EA6;\n",
              "  }\n",
              "\n",
              "  [theme=dark] .colab-df-quickchart {\n",
              "    background-color: #3B4455;\n",
              "    fill: #D2E3FC;\n",
              "  }\n",
              "\n",
              "  [theme=dark] .colab-df-quickchart:hover {\n",
              "    background-color: #434B5C;\n",
              "    box-shadow: 0px 1px 3px 1px rgba(0, 0, 0, 0.15);\n",
              "    filter: drop-shadow(0px 1px 2px rgba(0, 0, 0, 0.3));\n",
              "    fill: #FFFFFF;\n",
              "  }\n",
              "</style>\n",
              "\n",
              "    <script>\n",
              "      async function quickchart(key) {\n",
              "        const containerElement = document.querySelector('#' + key);\n",
              "        const charts = await google.colab.kernel.invokeFunction(\n",
              "            'suggestCharts', [key], {});\n",
              "      }\n",
              "    </script>\n",
              "\n",
              "      <script>\n",
              "\n",
              "function displayQuickchartButton(domScope) {\n",
              "  let quickchartButtonEl =\n",
              "    domScope.querySelector('#df-4e5a0c70-ccf2-407a-82e1-34a616bd9311 button.colab-df-quickchart');\n",
              "  quickchartButtonEl.style.display =\n",
              "    google.colab.kernel.accessAllowed ? 'block' : 'none';\n",
              "}\n",
              "\n",
              "        displayQuickchartButton(document);\n",
              "      </script>\n",
              "      <style>\n",
              "    .colab-df-container {\n",
              "      display:flex;\n",
              "      flex-wrap:wrap;\n",
              "      gap: 12px;\n",
              "    }\n",
              "\n",
              "    .colab-df-convert {\n",
              "      background-color: #E8F0FE;\n",
              "      border: none;\n",
              "      border-radius: 50%;\n",
              "      cursor: pointer;\n",
              "      display: none;\n",
              "      fill: #1967D2;\n",
              "      height: 32px;\n",
              "      padding: 0 0 0 0;\n",
              "      width: 32px;\n",
              "    }\n",
              "\n",
              "    .colab-df-convert:hover {\n",
              "      background-color: #E2EBFA;\n",
              "      box-shadow: 0px 1px 2px rgba(60, 64, 67, 0.3), 0px 1px 3px 1px rgba(60, 64, 67, 0.15);\n",
              "      fill: #174EA6;\n",
              "    }\n",
              "\n",
              "    [theme=dark] .colab-df-convert {\n",
              "      background-color: #3B4455;\n",
              "      fill: #D2E3FC;\n",
              "    }\n",
              "\n",
              "    [theme=dark] .colab-df-convert:hover {\n",
              "      background-color: #434B5C;\n",
              "      box-shadow: 0px 1px 3px 1px rgba(0, 0, 0, 0.15);\n",
              "      filter: drop-shadow(0px 1px 2px rgba(0, 0, 0, 0.3));\n",
              "      fill: #FFFFFF;\n",
              "    }\n",
              "  </style>\n",
              "\n",
              "      <script>\n",
              "        const buttonEl =\n",
              "          document.querySelector('#df-bc325f92-f3fe-41ae-b635-f319cc30658f button.colab-df-convert');\n",
              "        buttonEl.style.display =\n",
              "          google.colab.kernel.accessAllowed ? 'block' : 'none';\n",
              "\n",
              "        async function convertToInteractive(key) {\n",
              "          const element = document.querySelector('#df-bc325f92-f3fe-41ae-b635-f319cc30658f');\n",
              "          const dataTable =\n",
              "            await google.colab.kernel.invokeFunction('convertToInteractive',\n",
              "                                                     [key], {});\n",
              "          if (!dataTable) return;\n",
              "\n",
              "          const docLinkHtml = 'Like what you see? Visit the ' +\n",
              "            '<a target=\"_blank\" href=https://colab.research.google.com/notebooks/data_table.ipynb>data table notebook</a>'\n",
              "            + ' to learn more about interactive tables.';\n",
              "          element.innerHTML = '';\n",
              "          dataTable['output_type'] = 'display_data';\n",
              "          await google.colab.output.renderOutput(dataTable, element);\n",
              "          const docLink = document.createElement('div');\n",
              "          docLink.innerHTML = docLinkHtml;\n",
              "          element.appendChild(docLink);\n",
              "        }\n",
              "      </script>\n",
              "    </div>\n",
              "  </div>\n"
            ]
          },
          "metadata": {},
          "execution_count": 7
        }
      ]
    },
    {
      "cell_type": "code",
      "source": [
        "# 2.2.2\n",
        "data.shape   # (10000, 14)"
      ],
      "metadata": {
        "id": "xvzzZC1_vlP9",
        "outputId": "af861703-b38b-4b36-cc3b-465e05573565",
        "colab": {
          "base_uri": "https://localhost:8080/"
        }
      },
      "execution_count": 8,
      "outputs": [
        {
          "output_type": "execute_result",
          "data": {
            "text/plain": [
              "(10000, 14)"
            ]
          },
          "metadata": {},
          "execution_count": 8
        }
      ]
    },
    {
      "cell_type": "code",
      "source": [
        "# 2.3 Pop out target\n",
        "y = data.pop('Exited')"
      ],
      "metadata": {
        "id": "N3KCovgwEtmt"
      },
      "execution_count": 9,
      "outputs": []
    },
    {
      "cell_type": "code",
      "source": [
        "# 2.3.1\n",
        "data.shape   # (10000,13)"
      ],
      "metadata": {
        "colab": {
          "base_uri": "https://localhost:8080/"
        },
        "id": "GmDd06fNJjsM",
        "outputId": "34c0daca-8767-4bf1-eda4-c4c5f5fb969d"
      },
      "execution_count": 10,
      "outputs": [
        {
          "output_type": "execute_result",
          "data": {
            "text/plain": [
              "(10000, 13)"
            ]
          },
          "metadata": {},
          "execution_count": 10
        }
      ]
    },
    {
      "cell_type": "code",
      "source": [
        "# 3.0 Check NULL\n",
        "data.isnull().sum()"
      ],
      "metadata": {
        "id": "fG-9A9AN8MZp",
        "outputId": "4081d5e8-77ae-4a9d-db3f-9709e6ad8443",
        "colab": {
          "base_uri": "https://localhost:8080/"
        }
      },
      "execution_count": 11,
      "outputs": [
        {
          "output_type": "execute_result",
          "data": {
            "text/plain": [
              "RowNumber          0\n",
              "CustomerId         0\n",
              "Surname            0\n",
              "CreditScore        0\n",
              "Geography          0\n",
              "Gender             0\n",
              "Age                0\n",
              "Tenure             0\n",
              "Balance            0\n",
              "NumOfProducts      0\n",
              "HasCrCard          0\n",
              "IsActiveMember     0\n",
              "EstimatedSalary    0\n",
              "dtype: int64"
            ]
          },
          "metadata": {},
          "execution_count": 11
        }
      ]
    },
    {
      "cell_type": "code",
      "source": [
        "data['Gender'].value_counts()"
      ],
      "metadata": {
        "id": "ykFrcsOIgG-j",
        "outputId": "8866de4a-074d-43a2-fb40-355f669b1a3d",
        "colab": {
          "base_uri": "https://localhost:8080/"
        }
      },
      "execution_count": 12,
      "outputs": [
        {
          "output_type": "execute_result",
          "data": {
            "text/plain": [
              "Male      5457\n",
              "Female    4543\n",
              "Name: Gender, dtype: int64"
            ]
          },
          "metadata": {},
          "execution_count": 12
        }
      ]
    },
    {
      "cell_type": "code",
      "source": [
        "data['Geography'].value_counts()"
      ],
      "metadata": {
        "id": "rVOMbYsqg9Gw",
        "outputId": "d81e11b7-b3f2-40eb-e433-d112e58408e2",
        "colab": {
          "base_uri": "https://localhost:8080/"
        }
      },
      "execution_count": 13,
      "outputs": [
        {
          "output_type": "execute_result",
          "data": {
            "text/plain": [
              "France     5014\n",
              "Germany    2509\n",
              "Spain      2477\n",
              "Name: Geography, dtype: int64"
            ]
          },
          "metadata": {},
          "execution_count": 13
        }
      ]
    },
    {
      "cell_type": "code",
      "source": [
        "data['Geography'].nunique()"
      ],
      "metadata": {
        "id": "K8JpB5zOhHej",
        "outputId": "7c5cdadd-6c1b-47ef-b99a-d2ad105e1e10",
        "colab": {
          "base_uri": "https://localhost:8080/"
        }
      },
      "execution_count": 14,
      "outputs": [
        {
          "output_type": "execute_result",
          "data": {
            "text/plain": [
              "3"
            ]
          },
          "metadata": {},
          "execution_count": 14
        }
      ]
    },
    {
      "cell_type": "code",
      "source": [
        "data['Gender'] = data['Gender'].map({'Female' : 1, 'Male' : 0})"
      ],
      "metadata": {
        "id": "3Q4VjYaRn7qA"
      },
      "execution_count": 15,
      "outputs": []
    },
    {
      "cell_type": "code",
      "source": [
        "data['Geography'].unique()"
      ],
      "metadata": {
        "colab": {
          "base_uri": "https://localhost:8080/"
        },
        "id": "GV49Z3ZuoJvx",
        "outputId": "b105fa1b-c613-4b3c-d66b-4226590565a2"
      },
      "execution_count": 16,
      "outputs": [
        {
          "output_type": "execute_result",
          "data": {
            "text/plain": [
              "array(['France', 'Spain', 'Germany'], dtype=object)"
            ]
          },
          "metadata": {},
          "execution_count": 16
        }
      ]
    },
    {
      "cell_type": "code",
      "source": [
        "data['Geography'] = data['Geography'].map({'France' : 0, 'Spain' : 1, 'Germany' : 2})"
      ],
      "metadata": {
        "id": "LmH2_2IWoO9N"
      },
      "execution_count": 17,
      "outputs": []
    },
    {
      "cell_type": "code",
      "source": [
        "# 3.2 Categorical features:\n",
        "data[:2]"
      ],
      "metadata": {
        "id": "WyDhQZsHJmMk",
        "outputId": "27b03077-ec6f-4759-e558-822a1047fef6",
        "colab": {
          "base_uri": "https://localhost:8080/",
          "height": 176
        }
      },
      "execution_count": 18,
      "outputs": [
        {
          "output_type": "execute_result",
          "data": {
            "text/plain": [
              "   RowNumber  CustomerId   Surname  CreditScore  Geography  Gender  Age  \\\n",
              "0          1    15634602  Hargrave          619          0       1   42   \n",
              "1          2    15647311      Hill          608          1       1   41   \n",
              "\n",
              "   Tenure   Balance  NumOfProducts  HasCrCard  IsActiveMember  EstimatedSalary  \n",
              "0       2      0.00              1          1               1        101348.88  \n",
              "1       1  83807.86              1          0               1        112542.58  "
            ],
            "text/html": [
              "\n",
              "\n",
              "  <div id=\"df-a7205f1e-0ab7-41a9-8e16-d16b8aca3a66\">\n",
              "    <div class=\"colab-df-container\">\n",
              "      <div>\n",
              "<style scoped>\n",
              "    .dataframe tbody tr th:only-of-type {\n",
              "        vertical-align: middle;\n",
              "    }\n",
              "\n",
              "    .dataframe tbody tr th {\n",
              "        vertical-align: top;\n",
              "    }\n",
              "\n",
              "    .dataframe thead th {\n",
              "        text-align: right;\n",
              "    }\n",
              "</style>\n",
              "<table border=\"1\" class=\"dataframe\">\n",
              "  <thead>\n",
              "    <tr style=\"text-align: right;\">\n",
              "      <th></th>\n",
              "      <th>RowNumber</th>\n",
              "      <th>CustomerId</th>\n",
              "      <th>Surname</th>\n",
              "      <th>CreditScore</th>\n",
              "      <th>Geography</th>\n",
              "      <th>Gender</th>\n",
              "      <th>Age</th>\n",
              "      <th>Tenure</th>\n",
              "      <th>Balance</th>\n",
              "      <th>NumOfProducts</th>\n",
              "      <th>HasCrCard</th>\n",
              "      <th>IsActiveMember</th>\n",
              "      <th>EstimatedSalary</th>\n",
              "    </tr>\n",
              "  </thead>\n",
              "  <tbody>\n",
              "    <tr>\n",
              "      <th>0</th>\n",
              "      <td>1</td>\n",
              "      <td>15634602</td>\n",
              "      <td>Hargrave</td>\n",
              "      <td>619</td>\n",
              "      <td>0</td>\n",
              "      <td>1</td>\n",
              "      <td>42</td>\n",
              "      <td>2</td>\n",
              "      <td>0.00</td>\n",
              "      <td>1</td>\n",
              "      <td>1</td>\n",
              "      <td>1</td>\n",
              "      <td>101348.88</td>\n",
              "    </tr>\n",
              "    <tr>\n",
              "      <th>1</th>\n",
              "      <td>2</td>\n",
              "      <td>15647311</td>\n",
              "      <td>Hill</td>\n",
              "      <td>608</td>\n",
              "      <td>1</td>\n",
              "      <td>1</td>\n",
              "      <td>41</td>\n",
              "      <td>1</td>\n",
              "      <td>83807.86</td>\n",
              "      <td>1</td>\n",
              "      <td>0</td>\n",
              "      <td>1</td>\n",
              "      <td>112542.58</td>\n",
              "    </tr>\n",
              "  </tbody>\n",
              "</table>\n",
              "</div>\n",
              "      <button class=\"colab-df-convert\" onclick=\"convertToInteractive('df-a7205f1e-0ab7-41a9-8e16-d16b8aca3a66')\"\n",
              "              title=\"Convert this dataframe to an interactive table.\"\n",
              "              style=\"display:none;\">\n",
              "\n",
              "  <svg xmlns=\"http://www.w3.org/2000/svg\" height=\"24px\"viewBox=\"0 0 24 24\"\n",
              "       width=\"24px\">\n",
              "    <path d=\"M0 0h24v24H0V0z\" fill=\"none\"/>\n",
              "    <path d=\"M18.56 5.44l.94 2.06.94-2.06 2.06-.94-2.06-.94-.94-2.06-.94 2.06-2.06.94zm-11 1L8.5 8.5l.94-2.06 2.06-.94-2.06-.94L8.5 2.5l-.94 2.06-2.06.94zm10 10l.94 2.06.94-2.06 2.06-.94-2.06-.94-.94-2.06-.94 2.06-2.06.94z\"/><path d=\"M17.41 7.96l-1.37-1.37c-.4-.4-.92-.59-1.43-.59-.52 0-1.04.2-1.43.59L10.3 9.45l-7.72 7.72c-.78.78-.78 2.05 0 2.83L4 21.41c.39.39.9.59 1.41.59.51 0 1.02-.2 1.41-.59l7.78-7.78 2.81-2.81c.8-.78.8-2.07 0-2.86zM5.41 20L4 18.59l7.72-7.72 1.47 1.35L5.41 20z\"/>\n",
              "  </svg>\n",
              "      </button>\n",
              "\n",
              "\n",
              "\n",
              "    <div id=\"df-3c0e94d7-0e6e-4c10-9119-40e0b023bcea\">\n",
              "      <button class=\"colab-df-quickchart\" onclick=\"quickchart('df-3c0e94d7-0e6e-4c10-9119-40e0b023bcea')\"\n",
              "              title=\"Suggest charts.\"\n",
              "              style=\"display:none;\">\n",
              "\n",
              "<svg xmlns=\"http://www.w3.org/2000/svg\" height=\"24px\"viewBox=\"0 0 24 24\"\n",
              "     width=\"24px\">\n",
              "    <g>\n",
              "        <path d=\"M19 3H5c-1.1 0-2 .9-2 2v14c0 1.1.9 2 2 2h14c1.1 0 2-.9 2-2V5c0-1.1-.9-2-2-2zM9 17H7v-7h2v7zm4 0h-2V7h2v10zm4 0h-2v-4h2v4z\"/>\n",
              "    </g>\n",
              "</svg>\n",
              "      </button>\n",
              "    </div>\n",
              "\n",
              "<style>\n",
              "  .colab-df-quickchart {\n",
              "    background-color: #E8F0FE;\n",
              "    border: none;\n",
              "    border-radius: 50%;\n",
              "    cursor: pointer;\n",
              "    display: none;\n",
              "    fill: #1967D2;\n",
              "    height: 32px;\n",
              "    padding: 0 0 0 0;\n",
              "    width: 32px;\n",
              "  }\n",
              "\n",
              "  .colab-df-quickchart:hover {\n",
              "    background-color: #E2EBFA;\n",
              "    box-shadow: 0px 1px 2px rgba(60, 64, 67, 0.3), 0px 1px 3px 1px rgba(60, 64, 67, 0.15);\n",
              "    fill: #174EA6;\n",
              "  }\n",
              "\n",
              "  [theme=dark] .colab-df-quickchart {\n",
              "    background-color: #3B4455;\n",
              "    fill: #D2E3FC;\n",
              "  }\n",
              "\n",
              "  [theme=dark] .colab-df-quickchart:hover {\n",
              "    background-color: #434B5C;\n",
              "    box-shadow: 0px 1px 3px 1px rgba(0, 0, 0, 0.15);\n",
              "    filter: drop-shadow(0px 1px 2px rgba(0, 0, 0, 0.3));\n",
              "    fill: #FFFFFF;\n",
              "  }\n",
              "</style>\n",
              "\n",
              "    <script>\n",
              "      async function quickchart(key) {\n",
              "        const containerElement = document.querySelector('#' + key);\n",
              "        const charts = await google.colab.kernel.invokeFunction(\n",
              "            'suggestCharts', [key], {});\n",
              "      }\n",
              "    </script>\n",
              "\n",
              "      <script>\n",
              "\n",
              "function displayQuickchartButton(domScope) {\n",
              "  let quickchartButtonEl =\n",
              "    domScope.querySelector('#df-3c0e94d7-0e6e-4c10-9119-40e0b023bcea button.colab-df-quickchart');\n",
              "  quickchartButtonEl.style.display =\n",
              "    google.colab.kernel.accessAllowed ? 'block' : 'none';\n",
              "}\n",
              "\n",
              "        displayQuickchartButton(document);\n",
              "      </script>\n",
              "      <style>\n",
              "    .colab-df-container {\n",
              "      display:flex;\n",
              "      flex-wrap:wrap;\n",
              "      gap: 12px;\n",
              "    }\n",
              "\n",
              "    .colab-df-convert {\n",
              "      background-color: #E8F0FE;\n",
              "      border: none;\n",
              "      border-radius: 50%;\n",
              "      cursor: pointer;\n",
              "      display: none;\n",
              "      fill: #1967D2;\n",
              "      height: 32px;\n",
              "      padding: 0 0 0 0;\n",
              "      width: 32px;\n",
              "    }\n",
              "\n",
              "    .colab-df-convert:hover {\n",
              "      background-color: #E2EBFA;\n",
              "      box-shadow: 0px 1px 2px rgba(60, 64, 67, 0.3), 0px 1px 3px 1px rgba(60, 64, 67, 0.15);\n",
              "      fill: #174EA6;\n",
              "    }\n",
              "\n",
              "    [theme=dark] .colab-df-convert {\n",
              "      background-color: #3B4455;\n",
              "      fill: #D2E3FC;\n",
              "    }\n",
              "\n",
              "    [theme=dark] .colab-df-convert:hover {\n",
              "      background-color: #434B5C;\n",
              "      box-shadow: 0px 1px 3px 1px rgba(0, 0, 0, 0.15);\n",
              "      filter: drop-shadow(0px 1px 2px rgba(0, 0, 0, 0.3));\n",
              "      fill: #FFFFFF;\n",
              "    }\n",
              "  </style>\n",
              "\n",
              "      <script>\n",
              "        const buttonEl =\n",
              "          document.querySelector('#df-a7205f1e-0ab7-41a9-8e16-d16b8aca3a66 button.colab-df-convert');\n",
              "        buttonEl.style.display =\n",
              "          google.colab.kernel.accessAllowed ? 'block' : 'none';\n",
              "\n",
              "        async function convertToInteractive(key) {\n",
              "          const element = document.querySelector('#df-a7205f1e-0ab7-41a9-8e16-d16b8aca3a66');\n",
              "          const dataTable =\n",
              "            await google.colab.kernel.invokeFunction('convertToInteractive',\n",
              "                                                     [key], {});\n",
              "          if (!dataTable) return;\n",
              "\n",
              "          const docLinkHtml = 'Like what you see? Visit the ' +\n",
              "            '<a target=\"_blank\" href=https://colab.research.google.com/notebooks/data_table.ipynb>data table notebook</a>'\n",
              "            + ' to learn more about interactive tables.';\n",
              "          element.innerHTML = '';\n",
              "          dataTable['output_type'] = 'display_data';\n",
              "          await google.colab.output.renderOutput(dataTable, element);\n",
              "          const docLink = document.createElement('div');\n",
              "          docLink.innerHTML = docLinkHtml;\n",
              "          element.appendChild(docLink);\n",
              "        }\n",
              "      </script>\n",
              "    </div>\n",
              "  </div>\n"
            ]
          },
          "metadata": {},
          "execution_count": 18
        }
      ]
    },
    {
      "cell_type": "code",
      "source": [
        "data['CustomerId'].duplicated().sum()"
      ],
      "metadata": {
        "colab": {
          "base_uri": "https://localhost:8080/"
        },
        "id": "TkNTvzYLojWw",
        "outputId": "efad5b20-d89b-4048-c40d-abacec3f068f"
      },
      "execution_count": 19,
      "outputs": [
        {
          "output_type": "execute_result",
          "data": {
            "text/plain": [
              "0"
            ]
          },
          "metadata": {},
          "execution_count": 19
        }
      ]
    },
    {
      "cell_type": "code",
      "source": [
        "data = data.drop(columns = ['RowNumber','CustomerId', 'Surname'])"
      ],
      "metadata": {
        "id": "kC0KCgzOo6YG"
      },
      "execution_count": 20,
      "outputs": []
    },
    {
      "cell_type": "code",
      "source": [
        "data['Tenure'].unique()"
      ],
      "metadata": {
        "colab": {
          "base_uri": "https://localhost:8080/"
        },
        "id": "SqgsstLwpPQ9",
        "outputId": "24d2900a-72db-4652-a8d3-1a0b06030b93"
      },
      "execution_count": 21,
      "outputs": [
        {
          "output_type": "execute_result",
          "data": {
            "text/plain": [
              "array([ 2,  1,  8,  7,  4,  6,  3, 10,  5,  9,  0])"
            ]
          },
          "metadata": {},
          "execution_count": 21
        }
      ]
    },
    {
      "cell_type": "code",
      "source": [
        "X_train,X_test, y_train,y_test = train_test_split(data, y, test_size = 0.25)"
      ],
      "metadata": {
        "id": "x6HG0SEppo72"
      },
      "execution_count": 22,
      "outputs": []
    },
    {
      "cell_type": "code",
      "source": [
        "X_train.shape\n",
        "X_test.shape"
      ],
      "metadata": {
        "colab": {
          "base_uri": "https://localhost:8080/"
        },
        "id": "xUm3VKFLpxnG",
        "outputId": "4f493a34-c263-4576-e191-531d2f8acbef"
      },
      "execution_count": 23,
      "outputs": [
        {
          "output_type": "execute_result",
          "data": {
            "text/plain": [
              "(7500, 10)"
            ]
          },
          "metadata": {},
          "execution_count": 23
        },
        {
          "output_type": "execute_result",
          "data": {
            "text/plain": [
              "(2500, 10)"
            ]
          },
          "metadata": {},
          "execution_count": 23
        }
      ]
    },
    {
      "cell_type": "code",
      "source": [
        "mm = MinMaxScaler()\n",
        "mm.fit(X_train)"
      ],
      "metadata": {
        "colab": {
          "base_uri": "https://localhost:8080/",
          "height": 75
        },
        "id": "eTWGjVk8pYFO",
        "outputId": "cbe380f8-b591-427f-b0b5-417f8b25b7e1"
      },
      "execution_count": 24,
      "outputs": [
        {
          "output_type": "execute_result",
          "data": {
            "text/plain": [
              "MinMaxScaler()"
            ],
            "text/html": [
              "<style>#sk-container-id-1 {color: black;background-color: white;}#sk-container-id-1 pre{padding: 0;}#sk-container-id-1 div.sk-toggleable {background-color: white;}#sk-container-id-1 label.sk-toggleable__label {cursor: pointer;display: block;width: 100%;margin-bottom: 0;padding: 0.3em;box-sizing: border-box;text-align: center;}#sk-container-id-1 label.sk-toggleable__label-arrow:before {content: \"▸\";float: left;margin-right: 0.25em;color: #696969;}#sk-container-id-1 label.sk-toggleable__label-arrow:hover:before {color: black;}#sk-container-id-1 div.sk-estimator:hover label.sk-toggleable__label-arrow:before {color: black;}#sk-container-id-1 div.sk-toggleable__content {max-height: 0;max-width: 0;overflow: hidden;text-align: left;background-color: #f0f8ff;}#sk-container-id-1 div.sk-toggleable__content pre {margin: 0.2em;color: black;border-radius: 0.25em;background-color: #f0f8ff;}#sk-container-id-1 input.sk-toggleable__control:checked~div.sk-toggleable__content {max-height: 200px;max-width: 100%;overflow: auto;}#sk-container-id-1 input.sk-toggleable__control:checked~label.sk-toggleable__label-arrow:before {content: \"▾\";}#sk-container-id-1 div.sk-estimator input.sk-toggleable__control:checked~label.sk-toggleable__label {background-color: #d4ebff;}#sk-container-id-1 div.sk-label input.sk-toggleable__control:checked~label.sk-toggleable__label {background-color: #d4ebff;}#sk-container-id-1 input.sk-hidden--visually {border: 0;clip: rect(1px 1px 1px 1px);clip: rect(1px, 1px, 1px, 1px);height: 1px;margin: -1px;overflow: hidden;padding: 0;position: absolute;width: 1px;}#sk-container-id-1 div.sk-estimator {font-family: monospace;background-color: #f0f8ff;border: 1px dotted black;border-radius: 0.25em;box-sizing: border-box;margin-bottom: 0.5em;}#sk-container-id-1 div.sk-estimator:hover {background-color: #d4ebff;}#sk-container-id-1 div.sk-parallel-item::after {content: \"\";width: 100%;border-bottom: 1px solid gray;flex-grow: 1;}#sk-container-id-1 div.sk-label:hover label.sk-toggleable__label {background-color: #d4ebff;}#sk-container-id-1 div.sk-serial::before {content: \"\";position: absolute;border-left: 1px solid gray;box-sizing: border-box;top: 0;bottom: 0;left: 50%;z-index: 0;}#sk-container-id-1 div.sk-serial {display: flex;flex-direction: column;align-items: center;background-color: white;padding-right: 0.2em;padding-left: 0.2em;position: relative;}#sk-container-id-1 div.sk-item {position: relative;z-index: 1;}#sk-container-id-1 div.sk-parallel {display: flex;align-items: stretch;justify-content: center;background-color: white;position: relative;}#sk-container-id-1 div.sk-item::before, #sk-container-id-1 div.sk-parallel-item::before {content: \"\";position: absolute;border-left: 1px solid gray;box-sizing: border-box;top: 0;bottom: 0;left: 50%;z-index: -1;}#sk-container-id-1 div.sk-parallel-item {display: flex;flex-direction: column;z-index: 1;position: relative;background-color: white;}#sk-container-id-1 div.sk-parallel-item:first-child::after {align-self: flex-end;width: 50%;}#sk-container-id-1 div.sk-parallel-item:last-child::after {align-self: flex-start;width: 50%;}#sk-container-id-1 div.sk-parallel-item:only-child::after {width: 0;}#sk-container-id-1 div.sk-dashed-wrapped {border: 1px dashed gray;margin: 0 0.4em 0.5em 0.4em;box-sizing: border-box;padding-bottom: 0.4em;background-color: white;}#sk-container-id-1 div.sk-label label {font-family: monospace;font-weight: bold;display: inline-block;line-height: 1.2em;}#sk-container-id-1 div.sk-label-container {text-align: center;}#sk-container-id-1 div.sk-container {/* jupyter's `normalize.less` sets `[hidden] { display: none; }` but bootstrap.min.css set `[hidden] { display: none !important; }` so we also need the `!important` here to be able to override the default hidden behavior on the sphinx rendered scikit-learn.org. See: https://github.com/scikit-learn/scikit-learn/issues/21755 */display: inline-block !important;position: relative;}#sk-container-id-1 div.sk-text-repr-fallback {display: none;}</style><div id=\"sk-container-id-1\" class=\"sk-top-container\"><div class=\"sk-text-repr-fallback\"><pre>MinMaxScaler()</pre><b>In a Jupyter environment, please rerun this cell to show the HTML representation or trust the notebook. <br />On GitHub, the HTML representation is unable to render, please try loading this page with nbviewer.org.</b></div><div class=\"sk-container\" hidden><div class=\"sk-item\"><div class=\"sk-estimator sk-toggleable\"><input class=\"sk-toggleable__control sk-hidden--visually\" id=\"sk-estimator-id-1\" type=\"checkbox\" checked><label for=\"sk-estimator-id-1\" class=\"sk-toggleable__label sk-toggleable__label-arrow\">MinMaxScaler</label><div class=\"sk-toggleable__content\"><pre>MinMaxScaler()</pre></div></div></div></div></div>"
            ]
          },
          "metadata": {},
          "execution_count": 24
        }
      ]
    },
    {
      "cell_type": "code",
      "source": [
        "X_train = mm.transform(X_train)\n",
        "X_test = mm.transform(X_test)\n",
        "# Standardizing the data before splitting will give higher test accuracy which may misguide us that the model is good but in actual it may not be...\n",
        "# In order to avoid data leakage, one should keep test data totally separate....Do the processing on the train dataset..i.e. take mean/mode to fill\n",
        "# the null values fof training data use the same mean/mode to fill teh null values of testing dataset....If the data is highly skewwed, use Min-max"
      ],
      "metadata": {
        "id": "kb_YJ-w3p_7-"
      },
      "execution_count": 25,
      "outputs": []
    },
    {
      "cell_type": "markdown",
      "source": [
        "## Model"
      ],
      "metadata": {
        "id": "BKGxZacvpAUU"
      }
    },
    {
      "cell_type": "code",
      "source": [
        "# 6.0\n",
        "model = tf.keras.Sequential()"
      ],
      "metadata": {
        "id": "3u7a51m5Ixfm"
      },
      "execution_count": 26,
      "outputs": []
    },
    {
      "cell_type": "code",
      "source": [
        "model.add( tf.keras.layers.Input(shape = (10,) ))"
      ],
      "metadata": {
        "id": "3v6Pylo8LbZK"
      },
      "execution_count": 27,
      "outputs": []
    },
    {
      "cell_type": "code",
      "source": [
        "model.add(tf.keras.layers.Dense(50, activation = 'relu'))"
      ],
      "metadata": {
        "id": "IyWunUk-LbBC"
      },
      "execution_count": 28,
      "outputs": []
    },
    {
      "cell_type": "code",
      "source": [
        "model.add(tf.keras.layers.Dense(100, activation = 'selu'))"
      ],
      "metadata": {
        "id": "CJ-OzwnXLa76"
      },
      "execution_count": 29,
      "outputs": []
    },
    {
      "cell_type": "code",
      "source": [
        "model.add(tf.keras.layers.Dense(1, activation = 'sigmoid'))"
      ],
      "metadata": {
        "id": "canPNNVpLaiS"
      },
      "execution_count": 57,
      "outputs": []
    },
    {
      "cell_type": "markdown",
      "source": [
        "linear was also used"
      ],
      "metadata": {
        "id": "E1tFOQ5UUoJ_"
      }
    },
    {
      "cell_type": "markdown",
      "source": [
        "orinial here a funtion is sigmoid . but if we change from sigmoid to relu then accuracy will change and will become lower ...."
      ],
      "metadata": {
        "id": "ljLOsnA9S7Ta"
      }
    },
    {
      "cell_type": "code",
      "source": [
        "model.summary()"
      ],
      "metadata": {
        "id": "GFE8OWgZMctq",
        "outputId": "ad7732bd-89ea-4a42-cbba-59c43eb356ab",
        "colab": {
          "base_uri": "https://localhost:8080/"
        }
      },
      "execution_count": 50,
      "outputs": [
        {
          "output_type": "stream",
          "name": "stdout",
          "text": [
            "Model: \"sequential\"\n",
            "_________________________________________________________________\n",
            " Layer (type)                Output Shape              Param #   \n",
            "=================================================================\n",
            " dense (Dense)               (None, 50)                550       \n",
            "                                                                 \n",
            " dense_1 (Dense)             (None, 100)               5100      \n",
            "                                                                 \n",
            " dense_2 (Dense)             (None, 1)                 101       \n",
            "                                                                 \n",
            " dense_3 (Dense)             (None, 1)                 2         \n",
            "                                                                 \n",
            " dropout (Dropout)           (None, 1)                 0         \n",
            "                                                                 \n",
            " dense_4 (Dense)             (None, 1)                 2         \n",
            "                                                                 \n",
            "=================================================================\n",
            "Total params: 5,755\n",
            "Trainable params: 5,755\n",
            "Non-trainable params: 0\n",
            "_________________________________________________________________\n"
          ]
        }
      ]
    },
    {
      "cell_type": "code",
      "source": [
        "from tensorflow.keras.utils import plot_model"
      ],
      "metadata": {
        "id": "sropjgTuNOZ6"
      },
      "execution_count": 58,
      "outputs": []
    },
    {
      "cell_type": "code",
      "source": [
        "plot_model(model, show_shapes=True)"
      ],
      "metadata": {
        "id": "sXFsyEmfNVxT",
        "outputId": "e1a523da-d42e-4f4c-c287-d91fa2dc351b",
        "colab": {
          "base_uri": "https://localhost:8080/",
          "height": 865
        }
      },
      "execution_count": 59,
      "outputs": [
        {
          "output_type": "execute_result",
          "data": {
            "image/png": "[encoded data removed]",
            "text/plain": [
              "<IPython.core.display.Image object>"
            ]
          },
          "metadata": {},
          "execution_count": 59
        }
      ]
    },
    {
      "cell_type": "code",
      "source": [
        "model.compile(\n",
        "                 loss = 'binary_crossentropy',\n",
        "                 optimizer = 'adam',  # Try first with default optimizer and then with 'adam'\n",
        "                                      #  may not make much difference\n",
        "                 metrics = ['acc']\n",
        "              )"
      ],
      "metadata": {
        "id": "0Up-wyZ2OMng"
      },
      "execution_count": 60,
      "outputs": []
    },
    {
      "cell_type": "code",
      "source": [
        "model.fit(X_train,y_train,epochs=128)"
      ],
      "metadata": {
        "id": "Q257QmdlORQ3",
        "outputId": "2818eac7-28f2-4d2b-c8b6-98bdbfa4ef40",
        "colab": {
          "base_uri": "https://localhost:8080/"
        }
      },
      "execution_count": 61,
      "outputs": [
        {
          "output_type": "stream",
          "name": "stdout",
          "text": [
            "Epoch 1/128\n",
            "235/235 [==============================] - 3s 4ms/step - loss: 0.5836 - acc: 0.7953\n",
            "Epoch 2/128\n",
            "235/235 [==============================] - 1s 3ms/step - loss: 0.5338 - acc: 0.7953\n",
            "Epoch 3/128\n",
            "235/235 [==============================] - 1s 2ms/step - loss: 0.5175 - acc: 0.7953\n",
            "Epoch 4/128\n",
            "235/235 [==============================] - 1s 2ms/step - loss: 0.5135 - acc: 0.7953\n",
            "Epoch 5/128\n",
            "235/235 [==============================] - 1s 3ms/step - loss: 0.5103 - acc: 0.7953\n",
            "Epoch 6/128\n",
            "235/235 [==============================] - 1s 2ms/step - loss: 0.5084 - acc: 0.7953\n",
            "Epoch 7/128\n",
            "235/235 [==============================] - 1s 2ms/step - loss: 0.5087 - acc: 0.7953\n",
            "Epoch 8/128\n",
            "235/235 [==============================] - 1s 2ms/step - loss: 0.5043 - acc: 0.7953\n",
            "Epoch 9/128\n",
            "235/235 [==============================] - 1s 2ms/step - loss: 0.4990 - acc: 0.7953\n",
            "Epoch 10/128\n",
            "235/235 [==============================] - 1s 2ms/step - loss: 0.4928 - acc: 0.7953\n",
            "Epoch 11/128\n",
            "235/235 [==============================] - 1s 2ms/step - loss: 0.4888 - acc: 0.7953\n",
            "Epoch 12/128\n",
            "235/235 [==============================] - 1s 2ms/step - loss: 0.4876 - acc: 0.7953\n",
            "Epoch 13/128\n",
            "235/235 [==============================] - 1s 2ms/step - loss: 0.4868 - acc: 0.7953\n",
            "Epoch 14/128\n",
            "235/235 [==============================] - 1s 2ms/step - loss: 0.4786 - acc: 0.7953\n",
            "Epoch 15/128\n",
            "235/235 [==============================] - 1s 2ms/step - loss: 0.4790 - acc: 0.7953\n",
            "Epoch 16/128\n",
            "235/235 [==============================] - 1s 2ms/step - loss: 0.4762 - acc: 0.7953\n",
            "Epoch 17/128\n",
            "235/235 [==============================] - 1s 2ms/step - loss: 0.4720 - acc: 0.7953\n",
            "Epoch 18/128\n",
            "235/235 [==============================] - 1s 2ms/step - loss: 0.4705 - acc: 0.7953\n",
            "Epoch 19/128\n",
            "235/235 [==============================] - 1s 2ms/step - loss: 0.4709 - acc: 0.7953\n",
            "Epoch 20/128\n",
            "235/235 [==============================] - 2s 8ms/step - loss: 0.4702 - acc: 0.7953\n",
            "Epoch 21/128\n",
            "235/235 [==============================] - 1s 5ms/step - loss: 0.4695 - acc: 0.7953\n",
            "Epoch 22/128\n",
            "235/235 [==============================] - 1s 4ms/step - loss: 0.4736 - acc: 0.7953\n",
            "Epoch 23/128\n",
            "235/235 [==============================] - 1s 4ms/step - loss: 0.4653 - acc: 0.7953\n",
            "Epoch 24/128\n",
            "235/235 [==============================] - 1s 3ms/step - loss: 0.4694 - acc: 0.7953\n",
            "Epoch 25/128\n",
            "235/235 [==============================] - 1s 2ms/step - loss: 0.4691 - acc: 0.7953\n",
            "Epoch 26/128\n",
            "235/235 [==============================] - 1s 2ms/step - loss: 0.4663 - acc: 0.7953\n",
            "Epoch 27/128\n",
            "235/235 [==============================] - 1s 2ms/step - loss: 0.4665 - acc: 0.7953\n",
            "Epoch 28/128\n",
            "235/235 [==============================] - 1s 3ms/step - loss: 0.4622 - acc: 0.7953\n",
            "Epoch 29/128\n",
            "235/235 [==============================] - 1s 2ms/step - loss: 0.4642 - acc: 0.7953\n",
            "Epoch 30/128\n",
            "235/235 [==============================] - 1s 2ms/step - loss: 0.4616 - acc: 0.7953\n",
            "Epoch 31/128\n",
            "235/235 [==============================] - 1s 2ms/step - loss: 0.4655 - acc: 0.7953\n",
            "Epoch 32/128\n",
            "235/235 [==============================] - 1s 2ms/step - loss: 0.4680 - acc: 0.7953\n",
            "Epoch 33/128\n",
            "235/235 [==============================] - 1s 2ms/step - loss: 0.4631 - acc: 0.7953\n",
            "Epoch 34/128\n",
            "235/235 [==============================] - 1s 2ms/step - loss: 0.4606 - acc: 0.7953\n",
            "Epoch 35/128\n",
            "235/235 [==============================] - 1s 2ms/step - loss: 0.4622 - acc: 0.7953\n",
            "Epoch 36/128\n",
            "235/235 [==============================] - 1s 2ms/step - loss: 0.4627 - acc: 0.7953\n",
            "Epoch 37/128\n",
            "235/235 [==============================] - 1s 2ms/step - loss: 0.4632 - acc: 0.7953\n",
            "Epoch 38/128\n",
            "235/235 [==============================] - 1s 2ms/step - loss: 0.4633 - acc: 0.7953\n",
            "Epoch 39/128\n",
            "235/235 [==============================] - 1s 3ms/step - loss: 0.4631 - acc: 0.7953\n",
            "Epoch 40/128\n",
            "235/235 [==============================] - 1s 2ms/step - loss: 0.4643 - acc: 0.7953\n",
            "Epoch 41/128\n",
            "235/235 [==============================] - 1s 3ms/step - loss: 0.4593 - acc: 0.7953\n",
            "Epoch 42/128\n",
            "235/235 [==============================] - 1s 4ms/step - loss: 0.4629 - acc: 0.7953\n",
            "Epoch 43/128\n",
            "235/235 [==============================] - 1s 4ms/step - loss: 0.4587 - acc: 0.7953\n",
            "Epoch 44/128\n",
            "235/235 [==============================] - 1s 4ms/step - loss: 0.4605 - acc: 0.7953\n",
            "Epoch 45/128\n",
            "235/235 [==============================] - 1s 4ms/step - loss: 0.4632 - acc: 0.7953\n",
            "Epoch 46/128\n",
            "235/235 [==============================] - 2s 7ms/step - loss: 0.4615 - acc: 0.7953\n",
            "Epoch 47/128\n",
            "235/235 [==============================] - 1s 6ms/step - loss: 0.4600 - acc: 0.7953\n",
            "Epoch 48/128\n",
            "235/235 [==============================] - 1s 2ms/step - loss: 0.4585 - acc: 0.7953\n",
            "Epoch 49/128\n",
            "235/235 [==============================] - 1s 2ms/step - loss: 0.4632 - acc: 0.7953\n",
            "Epoch 50/128\n",
            "235/235 [==============================] - 1s 2ms/step - loss: 0.4589 - acc: 0.7953\n",
            "Epoch 51/128\n",
            "235/235 [==============================] - 1s 2ms/step - loss: 0.4656 - acc: 0.7953\n",
            "Epoch 52/128\n",
            "235/235 [==============================] - 1s 2ms/step - loss: 0.4596 - acc: 0.7953\n",
            "Epoch 53/128\n",
            "235/235 [==============================] - 1s 2ms/step - loss: 0.4608 - acc: 0.7953\n",
            "Epoch 54/128\n",
            "235/235 [==============================] - 1s 2ms/step - loss: 0.4594 - acc: 0.7953\n",
            "Epoch 55/128\n",
            "235/235 [==============================] - 1s 2ms/step - loss: 0.4582 - acc: 0.7953\n",
            "Epoch 56/128\n",
            "235/235 [==============================] - 1s 2ms/step - loss: 0.4620 - acc: 0.7953\n",
            "Epoch 57/128\n",
            "235/235 [==============================] - 1s 2ms/step - loss: 0.4655 - acc: 0.7953\n",
            "Epoch 58/128\n",
            "235/235 [==============================] - 1s 2ms/step - loss: 0.4592 - acc: 0.7953\n",
            "Epoch 59/128\n",
            "235/235 [==============================] - 1s 2ms/step - loss: 0.4601 - acc: 0.7953\n",
            "Epoch 60/128\n",
            "235/235 [==============================] - 1s 2ms/step - loss: 0.4606 - acc: 0.7953\n",
            "Epoch 61/128\n",
            "235/235 [==============================] - 1s 3ms/step - loss: 0.4594 - acc: 0.7953\n",
            "Epoch 62/128\n",
            "235/235 [==============================] - 1s 4ms/step - loss: 0.4598 - acc: 0.7953\n",
            "Epoch 63/128\n",
            "235/235 [==============================] - 1s 4ms/step - loss: 0.4610 - acc: 0.7953\n",
            "Epoch 64/128\n",
            "235/235 [==============================] - 1s 4ms/step - loss: 0.4607 - acc: 0.7953\n",
            "Epoch 65/128\n",
            "235/235 [==============================] - 1s 4ms/step - loss: 0.4614 - acc: 0.7953\n",
            "Epoch 66/128\n",
            "235/235 [==============================] - 1s 3ms/step - loss: 0.4593 - acc: 0.7953\n",
            "Epoch 67/128\n",
            "235/235 [==============================] - 1s 2ms/step - loss: 0.4625 - acc: 0.7953\n",
            "Epoch 68/128\n",
            "235/235 [==============================] - 1s 3ms/step - loss: 0.4621 - acc: 0.7953\n",
            "Epoch 69/128\n",
            "235/235 [==============================] - 1s 2ms/step - loss: 0.4607 - acc: 0.7953\n",
            "Epoch 70/128\n",
            "235/235 [==============================] - 1s 2ms/step - loss: 0.4614 - acc: 0.7953\n",
            "Epoch 71/128\n",
            "235/235 [==============================] - 1s 3ms/step - loss: 0.4602 - acc: 0.7953\n",
            "Epoch 72/128\n",
            "235/235 [==============================] - 1s 5ms/step - loss: 0.4589 - acc: 0.7953\n",
            "Epoch 73/128\n",
            "235/235 [==============================] - 1s 5ms/step - loss: 0.4598 - acc: 0.7953\n",
            "Epoch 74/128\n",
            "235/235 [==============================] - 1s 4ms/step - loss: 0.4610 - acc: 0.7953\n",
            "Epoch 75/128\n",
            "235/235 [==============================] - 1s 4ms/step - loss: 0.4601 - acc: 0.7953\n",
            "Epoch 76/128\n",
            "235/235 [==============================] - 1s 3ms/step - loss: 0.4594 - acc: 0.7953\n",
            "Epoch 77/128\n",
            "235/235 [==============================] - 1s 3ms/step - loss: 0.4579 - acc: 0.7953\n",
            "Epoch 78/128\n",
            "235/235 [==============================] - 1s 3ms/step - loss: 0.4594 - acc: 0.7953\n",
            "Epoch 79/128\n",
            "235/235 [==============================] - 1s 2ms/step - loss: 0.4605 - acc: 0.7953\n",
            "Epoch 80/128\n",
            "235/235 [==============================] - 1s 4ms/step - loss: 0.4586 - acc: 0.7953\n",
            "Epoch 81/128\n",
            "235/235 [==============================] - 1s 4ms/step - loss: 0.4627 - acc: 0.7953\n",
            "Epoch 82/128\n",
            "235/235 [==============================] - 1s 4ms/step - loss: 0.4599 - acc: 0.7953\n",
            "Epoch 83/128\n",
            "235/235 [==============================] - 1s 4ms/step - loss: 0.4545 - acc: 0.7953\n",
            "Epoch 84/128\n",
            "235/235 [==============================] - 1s 4ms/step - loss: 0.4580 - acc: 0.7953\n",
            "Epoch 85/128\n",
            "235/235 [==============================] - 1s 3ms/step - loss: 0.4569 - acc: 0.7953\n",
            "Epoch 86/128\n",
            "235/235 [==============================] - 1s 2ms/step - loss: 0.4602 - acc: 0.7953\n",
            "Epoch 87/128\n",
            "235/235 [==============================] - 1s 2ms/step - loss: 0.4571 - acc: 0.7953\n",
            "Epoch 88/128\n",
            "235/235 [==============================] - 1s 2ms/step - loss: 0.4551 - acc: 0.7953\n",
            "Epoch 89/128\n",
            "235/235 [==============================] - 1s 2ms/step - loss: 0.4580 - acc: 0.7953\n",
            "Epoch 90/128\n",
            "235/235 [==============================] - 1s 2ms/step - loss: 0.4587 - acc: 0.7953\n",
            "Epoch 91/128\n",
            "235/235 [==============================] - 1s 2ms/step - loss: 0.4615 - acc: 0.7953\n",
            "Epoch 92/128\n",
            "235/235 [==============================] - 1s 2ms/step - loss: 0.4573 - acc: 0.7953\n",
            "Epoch 93/128\n",
            "235/235 [==============================] - 1s 2ms/step - loss: 0.4561 - acc: 0.7953\n",
            "Epoch 94/128\n",
            "235/235 [==============================] - 1s 2ms/step - loss: 0.4595 - acc: 0.7953\n",
            "Epoch 95/128\n",
            "235/235 [==============================] - 1s 3ms/step - loss: 0.4610 - acc: 0.7953\n",
            "Epoch 96/128\n",
            "235/235 [==============================] - 1s 3ms/step - loss: 0.4548 - acc: 0.7953\n",
            "Epoch 97/128\n",
            "235/235 [==============================] - 1s 3ms/step - loss: 0.4566 - acc: 0.7953\n",
            "Epoch 98/128\n",
            "235/235 [==============================] - 1s 4ms/step - loss: 0.4565 - acc: 0.7953\n",
            "Epoch 99/128\n",
            "235/235 [==============================] - 1s 4ms/step - loss: 0.4552 - acc: 0.7953\n",
            "Epoch 100/128\n",
            "235/235 [==============================] - 1s 4ms/step - loss: 0.4588 - acc: 0.7953\n",
            "Epoch 101/128\n",
            "235/235 [==============================] - 1s 4ms/step - loss: 0.4584 - acc: 0.7953\n",
            "Epoch 102/128\n",
            "235/235 [==============================] - 1s 4ms/step - loss: 0.4578 - acc: 0.7953\n",
            "Epoch 103/128\n",
            "235/235 [==============================] - 1s 4ms/step - loss: 0.4531 - acc: 0.7953\n",
            "Epoch 104/128\n",
            "235/235 [==============================] - 1s 4ms/step - loss: 0.4602 - acc: 0.7953\n",
            "Epoch 105/128\n",
            "235/235 [==============================] - 1s 4ms/step - loss: 0.4592 - acc: 0.7953\n",
            "Epoch 106/128\n",
            "235/235 [==============================] - 1s 2ms/step - loss: 0.4563 - acc: 0.7953\n",
            "Epoch 107/128\n",
            "235/235 [==============================] - 1s 2ms/step - loss: 0.4556 - acc: 0.7953\n",
            "Epoch 108/128\n",
            "235/235 [==============================] - 1s 2ms/step - loss: 0.4557 - acc: 0.7953\n",
            "Epoch 109/128\n",
            "235/235 [==============================] - 1s 3ms/step - loss: 0.4565 - acc: 0.7953\n",
            "Epoch 110/128\n",
            "235/235 [==============================] - 1s 2ms/step - loss: 0.4586 - acc: 0.7953\n",
            "Epoch 111/128\n",
            "235/235 [==============================] - 1s 2ms/step - loss: 0.4570 - acc: 0.7953\n",
            "Epoch 112/128\n",
            "235/235 [==============================] - 1s 3ms/step - loss: 0.4564 - acc: 0.7953\n",
            "Epoch 113/128\n",
            "235/235 [==============================] - 1s 2ms/step - loss: 0.4531 - acc: 0.7953\n",
            "Epoch 114/128\n",
            "235/235 [==============================] - 1s 2ms/step - loss: 0.4576 - acc: 0.7953\n",
            "Epoch 115/128\n",
            "235/235 [==============================] - 1s 2ms/step - loss: 0.4540 - acc: 0.7953\n",
            "Epoch 116/128\n",
            "235/235 [==============================] - 1s 2ms/step - loss: 0.4570 - acc: 0.7953\n",
            "Epoch 117/128\n",
            "235/235 [==============================] - 1s 2ms/step - loss: 0.4573 - acc: 0.7953\n",
            "Epoch 118/128\n",
            "235/235 [==============================] - 1s 2ms/step - loss: 0.4557 - acc: 0.7953\n",
            "Epoch 119/128\n",
            "235/235 [==============================] - 1s 2ms/step - loss: 0.4547 - acc: 0.7953\n",
            "Epoch 120/128\n",
            "235/235 [==============================] - 1s 2ms/step - loss: 0.4525 - acc: 0.7953\n",
            "Epoch 121/128\n",
            "235/235 [==============================] - 1s 2ms/step - loss: 0.4548 - acc: 0.7953\n",
            "Epoch 122/128\n",
            "235/235 [==============================] - 1s 3ms/step - loss: 0.4605 - acc: 0.7953\n",
            "Epoch 123/128\n",
            "235/235 [==============================] - 1s 4ms/step - loss: 0.4547 - acc: 0.7953\n",
            "Epoch 124/128\n",
            "235/235 [==============================] - 1s 4ms/step - loss: 0.4563 - acc: 0.7953\n",
            "Epoch 125/128\n",
            "235/235 [==============================] - 1s 4ms/step - loss: 0.4547 - acc: 0.7953\n",
            "Epoch 126/128\n",
            "235/235 [==============================] - 1s 4ms/step - loss: 0.4527 - acc: 0.7953\n",
            "Epoch 127/128\n",
            "235/235 [==============================] - 1s 4ms/step - loss: 0.4567 - acc: 0.7953\n",
            "Epoch 128/128\n",
            "235/235 [==============================] - 1s 3ms/step - loss: 0.4529 - acc: 0.7953\n"
          ]
        },
        {
          "output_type": "execute_result",
          "data": {
            "text/plain": [
              "<keras.callbacks.History at 0x79ac852b72e0>"
            ]
          },
          "metadata": {},
          "execution_count": 61
        }
      ]
    },
    {
      "cell_type": "code",
      "source": [
        "# 6.1\n",
        "# model.add( tf.keras.layers.Input(shape = (10,) ))"
      ],
      "metadata": {
        "id": "71VW2avIJEsh"
      },
      "execution_count": 67,
      "outputs": []
    },
    {
      "cell_type": "code",
      "source": [
        "trad = model.predict(X_test)"
      ],
      "metadata": {
        "id": "-nxs2_-3UVgm",
        "outputId": "eb746611-bc8c-44e6-94fd-ca198d32fa67",
        "colab": {
          "base_uri": "https://localhost:8080/"
        }
      },
      "execution_count": 64,
      "outputs": [
        {
          "output_type": "stream",
          "name": "stdout",
          "text": [
            "79/79 [==============================] - 0s 1ms/step\n"
          ]
        }
      ]
    },
    {
      "cell_type": "code",
      "source": [
        "trad>0.5"
      ],
      "metadata": {
        "id": "4nCunEjmVzvm",
        "outputId": "32e2ff8e-d19d-4623-fb8a-6e022fa07c65",
        "colab": {
          "base_uri": "https://localhost:8080/"
        }
      },
      "execution_count": 66,
      "outputs": [
        {
          "output_type": "execute_result",
          "data": {
            "text/plain": [
              "array([[False],\n",
              "       [False],\n",
              "       [False],\n",
              "       ...,\n",
              "       [False],\n",
              "       [False],\n",
              "       [False]])"
            ]
          },
          "metadata": {},
          "execution_count": 66
        }
      ]
    },
    {
      "cell_type": "markdown",
      "source": [
        "trad output rounded off so we get array below"
      ],
      "metadata": {
        "id": "cPiq6MhCXWVx"
      }
    },
    {
      "cell_type": "code",
      "source": [
        "xy = np.round(trad)"
      ],
      "metadata": {
        "id": "WD6bh4m9WTMm"
      },
      "execution_count": 70,
      "outputs": []
    },
    {
      "cell_type": "code",
      "source": [
        "xy"
      ],
      "metadata": {
        "id": "_mmkZQ5QWsBH",
        "outputId": "a16a3aea-e89c-417e-b0aa-2000279985bf",
        "colab": {
          "base_uri": "https://localhost:8080/"
        }
      },
      "execution_count": 71,
      "outputs": [
        {
          "output_type": "execute_result",
          "data": {
            "text/plain": [
              "array([[0.],\n",
              "       [0.],\n",
              "       [0.],\n",
              "       ...,\n",
              "       [0.],\n",
              "       [0.],\n",
              "       [0.]], dtype=float32)"
            ]
          },
          "metadata": {},
          "execution_count": 71
        }
      ]
    },
    {
      "cell_type": "code",
      "source": [
        "y_test.values"
      ],
      "metadata": {
        "id": "xR09dtjGWhRm",
        "outputId": "487459bb-21ed-4e44-97d2-f6b448eabb5b",
        "colab": {
          "base_uri": "https://localhost:8080/"
        }
      },
      "execution_count": 72,
      "outputs": [
        {
          "output_type": "execute_result",
          "data": {
            "text/plain": [
              "array([1, 0, 0, ..., 0, 0, 0])"
            ]
          },
          "metadata": {},
          "execution_count": 72
        }
      ]
    },
    {
      "cell_type": "code",
      "source": [
        "y_test.values.shape"
      ],
      "metadata": {
        "id": "ymOAxGaaXoCp",
        "outputId": "817f5bc5-2b01-4881-be81-e0b6180c058b",
        "colab": {
          "base_uri": "https://localhost:8080/"
        }
      },
      "execution_count": 74,
      "outputs": [
        {
          "output_type": "execute_result",
          "data": {
            "text/plain": [
              "(2500,)"
            ]
          },
          "metadata": {},
          "execution_count": 74
        }
      ]
    },
    {
      "cell_type": "markdown",
      "source": [
        "here no column"
      ],
      "metadata": {
        "id": "rIo374IDXvly"
      }
    },
    {
      "cell_type": "markdown",
      "source": [
        "extra added"
      ],
      "metadata": {
        "id": "0cK-O4wNWEvk"
      }
    },
    {
      "cell_type": "code",
      "source": [
        "y_test"
      ],
      "metadata": {
        "id": "e1swDjWfVmt3",
        "outputId": "47addc6a-220e-49e7-82dc-92e61ed33366",
        "colab": {
          "base_uri": "https://localhost:8080/"
        }
      },
      "execution_count": 65,
      "outputs": [
        {
          "output_type": "execute_result",
          "data": {
            "text/plain": [
              "7599    1\n",
              "5061    0\n",
              "6731    0\n",
              "4312    1\n",
              "9782    0\n",
              "       ..\n",
              "5358    0\n",
              "3285    1\n",
              "1554    0\n",
              "7859    0\n",
              "4464    0\n",
              "Name: Exited, Length: 2500, dtype: int64"
            ]
          },
          "metadata": {},
          "execution_count": 65
        }
      ]
    },
    {
      "cell_type": "code",
      "source": [
        "xy.shape"
      ],
      "metadata": {
        "id": "Rd2eyizhX7uj",
        "outputId": "df464835-05a1-4cec-f711-b1b02deda8d8",
        "colab": {
          "base_uri": "https://localhost:8080/"
        }
      },
      "execution_count": 75,
      "outputs": [
        {
          "output_type": "execute_result",
          "data": {
            "text/plain": [
              "(2500, 1)"
            ]
          },
          "metadata": {},
          "execution_count": 75
        }
      ]
    },
    {
      "cell_type": "code",
      "source": [
        "xy.flatten()"
      ],
      "metadata": {
        "id": "lOfuDkDIW794",
        "outputId": "8b7e9ff2-536c-4911-e907-f50743d63c04",
        "colab": {
          "base_uri": "https://localhost:8080/"
        }
      },
      "execution_count": 73,
      "outputs": [
        {
          "output_type": "execute_result",
          "data": {
            "text/plain": [
              "array([0., 0., 0., ..., 0., 0., 0.], dtype=float32)"
            ]
          },
          "metadata": {},
          "execution_count": 73
        }
      ]
    },
    {
      "cell_type": "markdown",
      "source": [],
      "metadata": {
        "id": "BlUgVuP7X3bi"
      }
    },
    {
      "cell_type": "code",
      "source": [],
      "metadata": {
        "id": "FgKFMy77XS8y"
      },
      "execution_count": null,
      "outputs": []
    },
    {
      "cell_type": "code",
      "source": [],
      "metadata": {
        "id": "45cZqPEDXQiS"
      },
      "execution_count": null,
      "outputs": []
    },
    {
      "cell_type": "markdown",
      "source": [
        "extra added"
      ],
      "metadata": {
        "id": "Jtr2kaxkWHdd"
      }
    },
    {
      "cell_type": "markdown",
      "source": [
        "here this code is extra added"
      ],
      "metadata": {
        "id": "8DxPCSqfVMQH"
      }
    },
    {
      "cell_type": "code",
      "source": [
        "# 6.2 Start\n",
        "# model.add(tf.keras.layers.Dense(40, activation = 'relu'))  # MAke it 5 and then 20 (not more or less)"
      ],
      "metadata": {
        "id": "fUDftH3BJ_-L"
      },
      "execution_count": null,
      "outputs": []
    },
    {
      "cell_type": "code",
      "source": [
        "# 6.2.1 Experiment with adding a dropout layer\n",
        "#       but then increase number of units in Dense layer from 20 to 40\n",
        "model.add(tf.keras.layers.Dropout(rate = 0.5 ))"
      ],
      "metadata": {
        "id": "NNAVQxIDwuVk"
      },
      "execution_count": 44,
      "outputs": []
    },
    {
      "cell_type": "code",
      "source": [
        "model.add(tf.keras.layers.Dense(20, activation = 'relu'))\n",
        "model.add(tf.keras.layers.Dropout(rate = 0.5 ))"
      ],
      "metadata": {
        "id": "Dj5lOyfyyDaQ"
      },
      "execution_count": null,
      "outputs": []
    },
    {
      "cell_type": "code",
      "source": [
        "model.add(tf.keras.layers.Dense(10, activation = 'relu'))\n",
        "model.add(tf.keras.layers.Dropout(rate = 0.5 ))"
      ],
      "metadata": {
        "id": "8zHYh7XCy2cJ"
      },
      "execution_count": null,
      "outputs": []
    },
    {
      "cell_type": "code",
      "source": [
        "# 6.3 Experiment first with activation of sigmoid\n",
        "#     and then no activation function\n",
        "model.add(tf.keras.layers.Dense(1, activation = 'sigmoid'))    # Keep sigmoid; then remove sigmoid"
      ],
      "metadata": {
        "id": "glw8SP83KQBL"
      },
      "execution_count": null,
      "outputs": []
    },
    {
      "cell_type": "code",
      "source": [
        "# 6.4 Model summary:\n",
        "model.summary()"
      ],
      "metadata": {
        "id": "HcfvweBLKWiQ",
        "outputId": "e2d59d38-c5e8-46af-a189-805869f06835",
        "colab": {
          "base_uri": "https://localhost:8080/"
        }
      },
      "execution_count": null,
      "outputs": [
        {
          "output_type": "stream",
          "name": "stdout",
          "text": [
            "Model: \"sequential_4\"\n",
            "_________________________________________________________________\n",
            " Layer (type)                Output Shape              Param #   \n",
            "=================================================================\n",
            " dense_16 (Dense)            (None, 40)                440       \n",
            "                                                                 \n",
            " dropout_6 (Dropout)         (None, 40)                0         \n",
            "                                                                 \n",
            " dense_17 (Dense)            (None, 20)                820       \n",
            "                                                                 \n",
            " dropout_7 (Dropout)         (None, 20)                0         \n",
            "                                                                 \n",
            " dense_18 (Dense)            (None, 10)                210       \n",
            "                                                                 \n",
            " dropout_8 (Dropout)         (None, 10)                0         \n",
            "                                                                 \n",
            " dense_19 (Dense)            (None, 1)                 11        \n",
            "                                                                 \n",
            "=================================================================\n",
            "Total params: 1,481\n",
            "Trainable params: 1,481\n",
            "Non-trainable params: 0\n",
            "_________________________________________________________________\n"
          ]
        }
      ]
    },
    {
      "cell_type": "code",
      "source": [
        "# 6.5 Compile model\n",
        "#     Expt with adam\n",
        "model.compile(\n",
        "                 loss = 'binary_crossentropy',\n",
        "                 optimizer = 'adam',  # Try first with default optimizer and then with 'adam'\n",
        "                                      #  may not make much difference\n",
        "                 metrics = ['acc']\n",
        "              )"
      ],
      "metadata": {
        "id": "6LLk36OpKYIJ"
      },
      "execution_count": null,
      "outputs": []
    },
    {
      "cell_type": "code",
      "source": [
        "# 7.0\n",
        "#\n",
        "history1 = model.fit(X_train,y_train,\n",
        "                    epochs = 70,\n",
        "                    validation_data = (X_test, y_test)\n",
        "                   )"
      ],
      "metadata": {
        "id": "SxH9wqFAKj6R",
        "outputId": "6020599a-be3a-410a-d090-510d6b17203c",
        "colab": {
          "base_uri": "https://localhost:8080/"
        }
      },
      "execution_count": null,
      "outputs": [
        {
          "output_type": "stream",
          "name": "stdout",
          "text": [
            "Epoch 1/70\n",
            "235/235 [==============================] - 2s 4ms/step - loss: 0.5993 - acc: 0.7453 - val_loss: 0.5042 - val_acc: 0.8100\n",
            "Epoch 2/70\n",
            "235/235 [==============================] - 1s 2ms/step - loss: 0.5348 - acc: 0.7900 - val_loss: 0.4757 - val_acc: 0.8100\n",
            "Epoch 3/70\n",
            "235/235 [==============================] - 1s 3ms/step - loss: 0.5243 - acc: 0.7917 - val_loss: 0.4680 - val_acc: 0.8100\n",
            "Epoch 4/70\n",
            "235/235 [==============================] - 1s 3ms/step - loss: 0.5061 - acc: 0.7917 - val_loss: 0.4606 - val_acc: 0.8100\n",
            "Epoch 5/70\n",
            "235/235 [==============================] - 1s 3ms/step - loss: 0.5040 - acc: 0.7917 - val_loss: 0.4518 - val_acc: 0.8100\n",
            "Epoch 6/70\n",
            "235/235 [==============================] - 1s 2ms/step - loss: 0.4979 - acc: 0.7917 - val_loss: 0.4445 - val_acc: 0.8100\n",
            "Epoch 7/70\n",
            "235/235 [==============================] - 1s 3ms/step - loss: 0.4964 - acc: 0.7917 - val_loss: 0.4467 - val_acc: 0.8100\n",
            "Epoch 8/70\n",
            "235/235 [==============================] - 1s 3ms/step - loss: 0.4913 - acc: 0.7915 - val_loss: 0.4372 - val_acc: 0.8100\n",
            "Epoch 9/70\n",
            "235/235 [==============================] - 1s 3ms/step - loss: 0.4812 - acc: 0.7940 - val_loss: 0.4290 - val_acc: 0.8100\n",
            "Epoch 10/70\n",
            "235/235 [==============================] - 1s 3ms/step - loss: 0.4823 - acc: 0.7935 - val_loss: 0.4239 - val_acc: 0.8100\n",
            "Epoch 11/70\n",
            "235/235 [==============================] - 1s 2ms/step - loss: 0.4725 - acc: 0.7944 - val_loss: 0.4158 - val_acc: 0.8100\n",
            "Epoch 12/70\n",
            "235/235 [==============================] - 1s 2ms/step - loss: 0.4675 - acc: 0.7937 - val_loss: 0.4104 - val_acc: 0.8100\n",
            "Epoch 13/70\n",
            "235/235 [==============================] - 1s 2ms/step - loss: 0.4683 - acc: 0.7936 - val_loss: 0.4068 - val_acc: 0.8100\n",
            "Epoch 14/70\n",
            "235/235 [==============================] - 1s 2ms/step - loss: 0.4630 - acc: 0.7987 - val_loss: 0.4026 - val_acc: 0.8120\n",
            "Epoch 15/70\n",
            "235/235 [==============================] - 1s 3ms/step - loss: 0.4518 - acc: 0.8040 - val_loss: 0.3988 - val_acc: 0.8200\n",
            "Epoch 16/70\n",
            "235/235 [==============================] - 1s 3ms/step - loss: 0.4529 - acc: 0.7992 - val_loss: 0.3946 - val_acc: 0.8116\n",
            "Epoch 17/70\n",
            "235/235 [==============================] - 1s 3ms/step - loss: 0.4489 - acc: 0.8012 - val_loss: 0.3909 - val_acc: 0.8252\n",
            "Epoch 18/70\n",
            "235/235 [==============================] - 1s 3ms/step - loss: 0.4439 - acc: 0.8065 - val_loss: 0.3837 - val_acc: 0.8304\n",
            "Epoch 19/70\n",
            "235/235 [==============================] - 1s 2ms/step - loss: 0.4426 - acc: 0.8085 - val_loss: 0.3866 - val_acc: 0.8424\n",
            "Epoch 20/70\n",
            "235/235 [==============================] - 1s 2ms/step - loss: 0.4405 - acc: 0.8117 - val_loss: 0.3748 - val_acc: 0.8500\n",
            "Epoch 21/70\n",
            "235/235 [==============================] - 1s 3ms/step - loss: 0.4279 - acc: 0.8093 - val_loss: 0.3684 - val_acc: 0.8600\n",
            "Epoch 22/70\n",
            "235/235 [==============================] - 1s 3ms/step - loss: 0.4400 - acc: 0.8169 - val_loss: 0.3664 - val_acc: 0.8620\n",
            "Epoch 23/70\n",
            "235/235 [==============================] - 1s 3ms/step - loss: 0.4211 - acc: 0.8167 - val_loss: 0.3609 - val_acc: 0.8644\n",
            "Epoch 24/70\n",
            "235/235 [==============================] - 1s 3ms/step - loss: 0.4220 - acc: 0.8217 - val_loss: 0.3572 - val_acc: 0.8604\n",
            "Epoch 25/70\n",
            "235/235 [==============================] - 1s 2ms/step - loss: 0.4236 - acc: 0.8163 - val_loss: 0.3564 - val_acc: 0.8540\n",
            "Epoch 26/70\n",
            "235/235 [==============================] - 1s 2ms/step - loss: 0.4190 - acc: 0.8207 - val_loss: 0.3653 - val_acc: 0.8624\n",
            "Epoch 27/70\n",
            "235/235 [==============================] - 1s 2ms/step - loss: 0.4138 - acc: 0.8261 - val_loss: 0.3534 - val_acc: 0.8640\n",
            "Epoch 28/70\n",
            "235/235 [==============================] - 1s 3ms/step - loss: 0.4166 - acc: 0.8263 - val_loss: 0.3483 - val_acc: 0.8660\n",
            "Epoch 29/70\n",
            "235/235 [==============================] - 1s 3ms/step - loss: 0.4133 - acc: 0.8227 - val_loss: 0.3495 - val_acc: 0.8668\n",
            "Epoch 30/70\n",
            "235/235 [==============================] - 1s 2ms/step - loss: 0.4127 - acc: 0.8233 - val_loss: 0.3488 - val_acc: 0.8660\n",
            "Epoch 31/70\n",
            "235/235 [==============================] - 1s 3ms/step - loss: 0.4061 - acc: 0.8257 - val_loss: 0.3438 - val_acc: 0.8688\n",
            "Epoch 32/70\n",
            "235/235 [==============================] - 1s 2ms/step - loss: 0.4103 - acc: 0.8304 - val_loss: 0.3465 - val_acc: 0.8576\n",
            "Epoch 33/70\n",
            "235/235 [==============================] - 1s 2ms/step - loss: 0.4094 - acc: 0.8259 - val_loss: 0.3418 - val_acc: 0.8696\n",
            "Epoch 34/70\n",
            "235/235 [==============================] - 1s 2ms/step - loss: 0.4039 - acc: 0.8279 - val_loss: 0.3421 - val_acc: 0.8692\n",
            "Epoch 35/70\n",
            "235/235 [==============================] - 1s 3ms/step - loss: 0.4072 - acc: 0.8292 - val_loss: 0.3473 - val_acc: 0.8648\n",
            "Epoch 36/70\n",
            "235/235 [==============================] - 1s 3ms/step - loss: 0.4043 - acc: 0.8277 - val_loss: 0.3417 - val_acc: 0.8664\n",
            "Epoch 37/70\n",
            "235/235 [==============================] - 1s 2ms/step - loss: 0.4037 - acc: 0.8280 - val_loss: 0.3392 - val_acc: 0.8680\n",
            "Epoch 38/70\n",
            "235/235 [==============================] - 1s 2ms/step - loss: 0.4115 - acc: 0.8256 - val_loss: 0.3476 - val_acc: 0.8656\n",
            "Epoch 39/70\n",
            "235/235 [==============================] - 1s 2ms/step - loss: 0.3984 - acc: 0.8303 - val_loss: 0.3417 - val_acc: 0.8636\n",
            "Epoch 40/70\n",
            "235/235 [==============================] - 1s 3ms/step - loss: 0.3975 - acc: 0.8309 - val_loss: 0.3426 - val_acc: 0.8668\n",
            "Epoch 41/70\n",
            "235/235 [==============================] - 1s 3ms/step - loss: 0.4035 - acc: 0.8243 - val_loss: 0.3392 - val_acc: 0.8660\n",
            "Epoch 42/70\n",
            "235/235 [==============================] - 1s 3ms/step - loss: 0.4088 - acc: 0.8287 - val_loss: 0.3409 - val_acc: 0.8676\n",
            "Epoch 43/70\n",
            "235/235 [==============================] - 1s 3ms/step - loss: 0.4001 - acc: 0.8303 - val_loss: 0.3437 - val_acc: 0.8656\n",
            "Epoch 44/70\n",
            "235/235 [==============================] - 1s 2ms/step - loss: 0.4071 - acc: 0.8287 - val_loss: 0.3388 - val_acc: 0.8664\n",
            "Epoch 45/70\n",
            "235/235 [==============================] - 1s 3ms/step - loss: 0.4018 - acc: 0.8296 - val_loss: 0.3381 - val_acc: 0.8668\n",
            "Epoch 46/70\n",
            "235/235 [==============================] - 1s 3ms/step - loss: 0.4022 - acc: 0.8303 - val_loss: 0.3370 - val_acc: 0.8680\n",
            "Epoch 47/70\n",
            "235/235 [==============================] - 1s 3ms/step - loss: 0.4028 - acc: 0.8285 - val_loss: 0.3374 - val_acc: 0.8664\n",
            "Epoch 48/70\n",
            "235/235 [==============================] - 1s 2ms/step - loss: 0.4013 - acc: 0.8328 - val_loss: 0.3374 - val_acc: 0.8692\n",
            "Epoch 49/70\n",
            "235/235 [==============================] - 1s 3ms/step - loss: 0.4015 - acc: 0.8287 - val_loss: 0.3386 - val_acc: 0.8692\n",
            "Epoch 50/70\n",
            "235/235 [==============================] - 1s 3ms/step - loss: 0.3979 - acc: 0.8299 - val_loss: 0.3396 - val_acc: 0.8684\n",
            "Epoch 51/70\n",
            "235/235 [==============================] - 1s 3ms/step - loss: 0.3974 - acc: 0.8329 - val_loss: 0.3399 - val_acc: 0.8688\n",
            "Epoch 52/70\n",
            "235/235 [==============================] - 1s 3ms/step - loss: 0.3946 - acc: 0.8329 - val_loss: 0.3351 - val_acc: 0.8676\n",
            "Epoch 53/70\n",
            "235/235 [==============================] - 1s 2ms/step - loss: 0.4043 - acc: 0.8289 - val_loss: 0.3350 - val_acc: 0.8704\n",
            "Epoch 54/70\n",
            "235/235 [==============================] - 1s 3ms/step - loss: 0.4039 - acc: 0.8304 - val_loss: 0.3395 - val_acc: 0.8660\n",
            "Epoch 55/70\n",
            "235/235 [==============================] - 1s 3ms/step - loss: 0.3966 - acc: 0.8299 - val_loss: 0.3326 - val_acc: 0.8688\n",
            "Epoch 56/70\n",
            "235/235 [==============================] - 1s 2ms/step - loss: 0.3934 - acc: 0.8319 - val_loss: 0.3356 - val_acc: 0.8664\n",
            "Epoch 57/70\n",
            "235/235 [==============================] - 1s 3ms/step - loss: 0.3866 - acc: 0.8352 - val_loss: 0.3325 - val_acc: 0.8688\n",
            "Epoch 58/70\n",
            "235/235 [==============================] - 1s 2ms/step - loss: 0.4009 - acc: 0.8308 - val_loss: 0.3383 - val_acc: 0.8664\n",
            "Epoch 59/70\n",
            "235/235 [==============================] - 1s 3ms/step - loss: 0.3998 - acc: 0.8311 - val_loss: 0.3408 - val_acc: 0.8660\n",
            "Epoch 60/70\n",
            "235/235 [==============================] - 1s 2ms/step - loss: 0.4008 - acc: 0.8267 - val_loss: 0.3418 - val_acc: 0.8648\n",
            "Epoch 61/70\n",
            "235/235 [==============================] - 1s 3ms/step - loss: 0.3955 - acc: 0.8248 - val_loss: 0.3352 - val_acc: 0.8656\n",
            "Epoch 62/70\n",
            "235/235 [==============================] - 1s 3ms/step - loss: 0.3974 - acc: 0.8316 - val_loss: 0.3371 - val_acc: 0.8696\n",
            "Epoch 63/70\n",
            "235/235 [==============================] - 1s 3ms/step - loss: 0.3984 - acc: 0.8313 - val_loss: 0.3365 - val_acc: 0.8672\n",
            "Epoch 64/70\n",
            "235/235 [==============================] - 1s 3ms/step - loss: 0.3980 - acc: 0.8300 - val_loss: 0.3345 - val_acc: 0.8684\n",
            "Epoch 65/70\n",
            "235/235 [==============================] - 1s 3ms/step - loss: 0.3985 - acc: 0.8327 - val_loss: 0.3357 - val_acc: 0.8652\n",
            "Epoch 66/70\n",
            "235/235 [==============================] - 1s 3ms/step - loss: 0.3958 - acc: 0.8348 - val_loss: 0.3362 - val_acc: 0.8672\n",
            "Epoch 67/70\n",
            "235/235 [==============================] - 1s 2ms/step - loss: 0.3937 - acc: 0.8321 - val_loss: 0.3329 - val_acc: 0.8648\n",
            "Epoch 68/70\n",
            "235/235 [==============================] - 1s 2ms/step - loss: 0.3933 - acc: 0.8324 - val_loss: 0.3348 - val_acc: 0.8684\n",
            "Epoch 69/70\n",
            "235/235 [==============================] - 1s 3ms/step - loss: 0.3917 - acc: 0.8329 - val_loss: 0.3345 - val_acc: 0.8656\n",
            "Epoch 70/70\n",
            "235/235 [==============================] - 1s 3ms/step - loss: 0.3923 - acc: 0.8289 - val_loss: 0.3359 - val_acc: 0.8700\n"
          ]
        }
      ]
    },
    {
      "cell_type": "code",
      "source": [
        "# 7.1\n",
        "model.evaluate(X_test,y_test)"
      ],
      "metadata": {
        "id": "E8CUmuEXKsgT",
        "outputId": "3f8d880a-e4d7-43a2-c241-fb7e0532825f",
        "colab": {
          "base_uri": "https://localhost:8080/"
        }
      },
      "execution_count": null,
      "outputs": [
        {
          "output_type": "stream",
          "name": "stdout",
          "text": [
            "79/79 [==============================] - 0s 2ms/step - loss: 0.3359 - acc: 0.8700\n"
          ]
        },
        {
          "output_type": "execute_result",
          "data": {
            "text/plain": [
              "[0.3358922302722931, 0.8700000047683716]"
            ]
          },
          "metadata": {},
          "execution_count": 90
        }
      ]
    },
    {
      "cell_type": "code",
      "source": [
        "type(history.history)"
      ],
      "metadata": {
        "id": "HVfYqFnhtU5G"
      },
      "execution_count": null,
      "outputs": []
    },
    {
      "cell_type": "code",
      "source": [
        "history.history.keys()"
      ],
      "metadata": {
        "colab": {
          "base_uri": "https://localhost:8080/"
        },
        "id": "pnlVFrNftfMd",
        "outputId": "86f53777-d1f7-4f9b-da4c-16282df744c1"
      },
      "execution_count": null,
      "outputs": [
        {
          "output_type": "execute_result",
          "data": {
            "text/plain": [
              "dict_keys(['loss', 'acc', 'val_loss', 'val_acc'])"
            ]
          },
          "metadata": {},
          "execution_count": 85
        }
      ]
    },
    {
      "cell_type": "code",
      "source": [
        "# Plot without dropouts\n",
        "loss = history.history['loss']\n",
        "val_loss = history.history['val_loss']\n",
        "plt.plot(loss)\n",
        "plt.plot(val_loss)"
      ],
      "metadata": {
        "colab": {
          "base_uri": "https://localhost:8080/",
          "height": 283
        },
        "id": "J-tjG6G-s44n",
        "outputId": "b6d29c2c-96c3-47af-91b0-33c7bfa5e062"
      },
      "execution_count": null,
      "outputs": [
        {
          "output_type": "execute_result",
          "data": {
            "text/plain": [
              "[<matplotlib.lines.Line2D at 0x7f8ac24e59d0>]"
            ]
          },
          "metadata": {},
          "execution_count": 86
        },
        {
          "output_type": "execute_result",
          "data": {
            "text/plain": [
              "[<matplotlib.lines.Line2D at 0x7f8ac250f5d0>]"
            ]
          },
          "metadata": {},
          "execution_count": 86
        },
        {
          "output_type": "display_data",
          "data": {
            "text/plain": [
              "<Figure size 432x288 with 1 Axes>"
            ],
            "image/png": "[encoded data removed]"
          },
          "metadata": {
            "needs_background": "light"
          }
        }
      ]
    },
    {
      "cell_type": "code",
      "source": [
        "# plot with dropouts\n",
        "loss = history1.history['loss']\n",
        "val_loss = history1.history['val_loss']\n",
        "plt.plot(loss, label = \"train_loss\")\n",
        "plt.plot(val_loss, label = \"val loss\")\n",
        "plt.legend()"
      ],
      "metadata": {
        "colab": {
          "base_uri": "https://localhost:8080/",
          "height": 283
        },
        "id": "tNBE_vPZt00F",
        "outputId": "1df693c2-3f22-4cd0-8e52-7ec390e198db"
      },
      "execution_count": null,
      "outputs": [
        {
          "output_type": "execute_result",
          "data": {
            "text/plain": [
              "[<matplotlib.lines.Line2D at 0x7f8abdd1f510>]"
            ]
          },
          "metadata": {},
          "execution_count": 89
        },
        {
          "output_type": "execute_result",
          "data": {
            "text/plain": [
              "[<matplotlib.lines.Line2D at 0x7f8abdd1f990>]"
            ]
          },
          "metadata": {},
          "execution_count": 89
        },
        {
          "output_type": "execute_result",
          "data": {
            "text/plain": [
              "<matplotlib.legend.Legend at 0x7f8abdd1f910>"
            ]
          },
          "metadata": {},
          "execution_count": 89
        },
        {
          "output_type": "display_data",
          "data": {
            "text/plain": [
              "<Figure size 432x288 with 1 Axes>"
            ],
            "image/png": "[encoded data removed]"
          },
          "metadata": {
            "needs_background": "light"
          }
        }
      ]
    },
    {
      "cell_type": "code",
      "source": [
        "######################### I am done #################"
      ],
      "metadata": {
        "id": "bzQX6UdZK-E-"
      },
      "execution_count": null,
      "outputs": []
    }
  ]
}